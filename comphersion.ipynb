{
 "cells": [
  {
   "cell_type": "code",
   "execution_count": 3,
   "id": "13a9011f",
   "metadata": {},
   "outputs": [
    {
     "name": "stdout",
     "output_type": "stream",
     "text": [
      "['puspha', 'kannapa', 'jinna', 'journey', 'little hearts', 'court', 'lucky bhaskar', 'thammudu', 'santhosam', 'kalisundam raa', 'nuvvu naku nachav', 'baby', '7g brundhvan colony', 'remo', 'orange', 'rx 100', 'arjun reddy', 'mangalvaram']\n",
      "[6, 7, 5, 7, 13, 5, 13, 8, 9, 14, 17, 4, 19, 4, 6, 6, 11, 11]\n"
     ]
    }
   ],
   "source": [
    "movies = ['puspha','kannapa','jinna','journey','little hearts','court','lucky bhaskar','thammudu','santhosam','kalisundam raa','nuvvu naku nachav','baby','7g brundhvan colony','remo','orange','rx 100','arjun reddy','mangalvaram']\n",
    "movielen = []\n",
    "for movie in movies:\n",
    "    size = len(movie)\n",
    "    movielen.append(size)\n",
    "print(movies)\n",
    "print(movielen)"
   ]
  },
  {
   "cell_type": "code",
   "execution_count": null,
   "id": "9de09b6c",
   "metadata": {},
   "outputs": [],
   "source": []
  }
 ],
 "metadata": {
  "kernelspec": {
   "display_name": "Python 3",
   "language": "python",
   "name": "python3"
  },
  "language_info": {
   "codemirror_mode": {
    "name": "ipython",
    "version": 3
   },
   "file_extension": ".py",
   "mimetype": "text/x-python",
   "name": "python",
   "nbconvert_exporter": "python",
   "pygments_lexer": "ipython3",
   "version": "3.13.6"
  }
 },
 "nbformat": 4,
 "nbformat_minor": 5
}
