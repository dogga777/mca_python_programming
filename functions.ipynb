{
 "cells": [
  {
   "cell_type": "markdown",
   "id": "09860579",
   "metadata": {},
   "source": [
    "non returning non parameterized functions   \n"
   ]
  },
  {
   "cell_type": "code",
   "execution_count": 1,
   "id": "92df5f6f",
   "metadata": {},
   "outputs": [
    {
     "name": "stdout",
     "output_type": "stream",
     "text": [
      "🌟🌟🌟🌟🌟\n",
      "Good morning\n",
      "🌟🌟🌟🌟🌟\n"
     ]
    }
   ],
   "source": [
    "# defination\n",
    "def greeting():\n",
    "    print(\"🌟\"*5)\n",
    "    print(\"Good morning\")\n",
    "    print(\"🌟\"*5)\n",
    "# call\n",
    "greeting() # no parameter and no return value"
   ]
  },
  {
   "cell_type": "markdown",
   "id": "2dcd20a4",
   "metadata": {},
   "source": [
    "value returning functions   "
   ]
  },
  {
   "cell_type": "code",
   "execution_count": null,
   "id": "b7616b5d",
   "metadata": {},
   "outputs": [
    {
     "name": "stdout",
     "output_type": "stream",
     "text": [
      "🚓\n",
      "👍\n",
      "🤦‍♂️\n",
      "🤦‍♂️\n"
     ]
    }
   ],
   "source": [
    "# Non parameter value\n",
    "def dice_roll():\n",
    "    import random\n",
    "    out = {1:'👍',2:'🤦‍♂️',3:'👋',4:'😎',5:'🚓',6:'😂'}\n",
    "    value = random.randint(1, 6) #select a random num between 1 -6\n",
    "    return out.get(value) # return the icon from the dict using value\n",
    "# calls\n",
    "print(dice_roll())\n",
    "print(dice_roll())\n",
    "print(dice_roll())\n",
    "print(dice_roll())\n"
   ]
  },
  {
   "cell_type": "code",
   "execution_count": null,
   "id": "ece640c0",
   "metadata": {},
   "outputs": [
    {
     "name": "stdout",
     "output_type": "stream",
     "text": [
      "False\n",
      "True\n",
      "True\n",
      "False\n"
     ]
    }
   ],
   "source": [
    "# parameter value returning function\n",
    "def is_valid_password(pwd):\n",
    "    if len(pwd) < 8: return False\n",
    "    if not pwd.isalnum(): return False\n",
    "    return True\n",
    "print(is_valid_password(\"hello\"))\n",
    "print(is_valid_password(\"helloWorld\"))\n",
    "print(is_valid_password(\"helloWorld10\"))\n",
    "print(is_valid_password(\"3210@1233\"))"
   ]
  },
  {
   "cell_type": "code",
   "execution_count": 4,
   "id": "4fe8de34",
   "metadata": {},
   "outputs": [
    {
     "name": "stdout",
     "output_type": "stream",
     "text": [
      "area = 180\n"
     ]
    }
   ],
   "source": [
    "# proper function syntax in python\n",
    "def area(length: int,breadth: int)-> int:\n",
    "    return length * breadth\n",
    "l = 12\n",
    "b = 15\n",
    "a = area(l,b)\n",
    "print(f'area = {a}')"
   ]
  },
  {
   "cell_type": "code",
   "execution_count": 6,
   "id": "bd3756a2",
   "metadata": {},
   "outputs": [
    {
     "name": "stdout",
     "output_type": "stream",
     "text": [
      "Hello\n",
      "Hi\n"
     ]
    }
   ],
   "source": [
    "#default args\n",
    "def cleanText(data, to_remove=\"@$#%\"):\n",
    "    newdata = data  # make a copy of data\n",
    "    for char in to_remove:  # loop of each char to remove\n",
    "        newdata = newdata.replace(char,'')\n",
    "    return newdata  # return newdata\n",
    "\n",
    "cText = cleanText(\"He#ll#o@\")  # default chars used for removing\n",
    "print(cText) \n",
    "cText2 = cleanText(\"H@!()#!)@i\", to_remove='@!#()')  # updated chars\n",
    "print(cText2)   "
   ]
  },
  {
   "cell_type": "code",
   "execution_count": 7,
   "id": "be34b651",
   "metadata": {},
   "outputs": [
    {
     "data": {
      "text/plain": [
       "26"
      ]
     },
     "execution_count": 7,
     "metadata": {},
     "output_type": "execute_result"
    }
   ],
   "source": [
    "# a lovely function\n",
    "def add100(a,b,c,d,e,f,g,h,i,j,k,l,m,n,o,p,q,r,s,t,u,v,w,x,y,z):\n",
    "    return(a+b+c+d+e+f+g+h+i+j+k+l+m+n+o+p+q+r+s+t+u+v+w+x+y+z)\n",
    "\n",
    "add100(1,1,1,1,1,1,1,1,1,1,1,1,1,1,1,1,1,1,1,1,1,1,1,1,1,1)"
   ]
  },
  {
   "cell_type": "markdown",
   "id": "5d85d12c",
   "metadata": {},
   "source": [
    "### Variable Arguments in python\n",
    "A function can have variable arguments in python using * symbol before a parameter in the function definition. this allows the function to accept any number of position arguments as a tuple.  "
   ]
  },
  {
   "cell_type": "code",
   "execution_count": 9,
   "id": "41ad53aa",
   "metadata": {},
   "outputs": [
    {
     "name": "stdout",
     "output_type": "stream",
     "text": [
      "1\n",
      "24\n",
      "4838400\n"
     ]
    }
   ],
   "source": [
    "# A function that can multiply n parameters\n",
    "\n",
    "def multiplier(*numbers):\n",
    "    result = 1                     # variable to hold total\n",
    "    for value in numbers:          # loop to get value from numbers\n",
    "        result *= value            # multiply value with result and save\n",
    "    return result                  # return result\n",
    "\n",
    "print(multiplier())                # no value\n",
    "print(multiplier(2,3,4))           # with few arguments\n",
    "print(multiplier(2,3,4,3,5,6,1,2,2,5,56,2))    # with many arguments"
   ]
  },
  {
   "cell_type": "code",
   "execution_count": 10,
   "id": "b2ffe1b8",
   "metadata": {},
   "outputs": [
    {
     "name": "stdout",
     "output_type": "stream",
     "text": [
      "24\n",
      "10\n",
      "Wrong operator give, please provide + or *\n"
     ]
    }
   ],
   "source": [
    "def operate(*args, operator=\"*\"):\n",
    "    if operator == '*':\n",
    "        result = 1\n",
    "        for num in args:\n",
    "            result*=num\n",
    "        return result\n",
    "    elif operator == '+':\n",
    "        result = 0\n",
    "        for num in args:\n",
    "            result+=num\n",
    "        return result\n",
    "    else:\n",
    "        return \"Wrong operator give, please provide + or *\"\n",
    "\n",
    "print(operate(1,2,3,4))                 # default multiply values\n",
    "print(operate(1,2,3,4, operator='+'))   # operator is +, so sum of value\n",
    "print(operate(1,2,3,4, operator='-'))  # wrong operator"
   ]
  },
  {
   "cell_type": "markdown",
   "id": "fc0fd7e5",
   "metadata": {},
   "source": [
    "### Anonymous functions in python   \n",
    "Anonymous functions, also known as lambda functions, are small, unnamed functions defined using the lambda keyword. \n",
    "\n",
    "f(x) = x*2 + 10 == lambda x: x*2 + 10"
   ]
  },
  {
   "cell_type": "code",
   "execution_count": 11,
   "id": "78cd4182",
   "metadata": {},
   "outputs": [
    {
     "name": "stdout",
     "output_type": "stream",
     "text": [
      "<function <lambda> at 0x00000229918542C0>\n"
     ]
    }
   ],
   "source": [
    "f = lambda x: x*2 + 10\n",
    "print(f)"
   ]
  },
  {
   "cell_type": "code",
   "execution_count": 12,
   "id": "e85694ad",
   "metadata": {},
   "outputs": [
    {
     "name": "stdout",
     "output_type": "stream",
     "text": [
      "14\n",
      "20\n",
      "30\n"
     ]
    }
   ],
   "source": [
    "print(f(2))\n",
    "print(f(5))\n",
    "print(f(10))"
   ]
  },
  {
   "cell_type": "code",
   "execution_count": 13,
   "id": "a824c62e",
   "metadata": {},
   "outputs": [
    {
     "name": "stdout",
     "output_type": "stream",
     "text": [
      "18\n",
      "65\n"
     ]
    }
   ],
   "source": [
    "g = lambda x,y : x*y + x + 10 # x and y aare 2 parameters\n",
    "print(g(2,3))\n",
    "print(g(5,10))"
   ]
  },
  {
   "cell_type": "markdown",
   "id": "11cf0e87",
   "metadata": {},
   "source": [
    "### Generators or lazy functions\n",
    "\n",
    "special type of function that will not evaluate and return all values at once,instead it will return one value at a time,and only when requested.   "
   ]
  },
  {
   "cell_type": "code",
   "execution_count": 14,
   "id": "7d0d65f3",
   "metadata": {},
   "outputs": [
    {
     "name": "stdout",
     "output_type": "stream",
     "text": [
      "1\n",
      "2\n",
      "3\n",
      "4\n",
      "5\n",
      "[1, 2, 3, 4, 5, 6, 7, 8, 9]\n"
     ]
    }
   ],
   "source": [
    "for i in range(1, 6): print(i)\n",
    "\n",
    "print(list(range(1,10)))"
   ]
  },
  {
   "cell_type": "code",
   "execution_count": 15,
   "id": "90e71535",
   "metadata": {},
   "outputs": [
    {
     "name": "stdout",
     "output_type": "stream",
     "text": [
      "Square 4\n",
      "Square 9\n",
      "Square 16\n",
      "Square 25\n",
      "Square 36\n",
      "Square 49\n",
      "[484, 1089, 3025]\n"
     ]
    }
   ],
   "source": [
    "# creating a generator (use yield instead of return)\n",
    "\n",
    "def squared(data):\n",
    "    for i in data:\n",
    "        yield i**2  # yield stores all resultin memory to \n",
    "                    # used   later and dnot return a single value\n",
    "        \n",
    "# squared(data=[1,2,3,4,5,6,7,8])  # this will not give you result\n",
    "\n",
    "# this is how we use generator (getting 1 value at a time)\n",
    "for num in squared([2,3,4,5,6,7]):\n",
    "    print(\"Square\",num)\n",
    "    \n",
    "    \n",
    "print(list(squared([22,33,55])))   # this calculates and convert all values\n",
    "                                   # to a list"
   ]
  },
  {
   "cell_type": "markdown",
   "id": "8839f4d7",
   "metadata": {},
   "source": [
    "Using functions from user-defined modules       \n",
    "in python ,you can create your own modules by defining functions  in a seperate     \n",
    "\n",
    "--->> we can import python files not notebook files  \n",
    "\n",
    "### four ways to import module      \n",
    "1. import the entire module:\n",
    "import module_name      \n",
    "\n",
    "2. import specific functions from a module:\n",
    "from module_name import function1, function2        \n",
    "\n",
    "3. import all functionns from a module:\n",
    "from module_name import*        \n",
    "\n",
    "4. import a module with an alias:\n",
    "import module_name as alias     \n"
   ]
  },
  {
   "cell_type": "code",
   "execution_count": 2,
   "id": "21447dc7",
   "metadata": {},
   "outputs": [],
   "source": [
    "import helper"
   ]
  },
  {
   "cell_type": "code",
   "execution_count": 3,
   "id": "f6577d18",
   "metadata": {},
   "outputs": [
    {
     "data": {
      "text/plain": [
       "314.2857142857143"
      ]
     },
     "execution_count": 3,
     "metadata": {},
     "output_type": "execute_result"
    }
   ],
   "source": [
    "helper.calcAreaOfCircle(10)"
   ]
  },
  {
   "cell_type": "code",
   "execution_count": 4,
   "id": "0bf9cd55",
   "metadata": {},
   "outputs": [
    {
     "data": {
      "text/plain": [
       "707.1428571428571"
      ]
     },
     "execution_count": 4,
     "metadata": {},
     "output_type": "execute_result"
    }
   ],
   "source": [
    "helper.calcAreaOfCircle(15)"
   ]
  },
  {
   "cell_type": "code",
   "execution_count": 6,
   "id": "6e84a3ea",
   "metadata": {},
   "outputs": [
    {
     "name": "stdout",
     "output_type": "stream",
     "text": [
      "314.2857142857143\n",
      "314.2857142857143\n",
      "62.857142857142854\n"
     ]
    }
   ],
   "source": [
    "a = helper.calcAreaOfCircle(10) # first argument is radius\n",
    "b = helper.calcAreaOfCircle(diameter=20)\n",
    "c = helper.calcCircumference(10)\n",
    "print(a,b,c, sep =\"\\n\")"
   ]
  },
  {
   "cell_type": "code",
   "execution_count": null,
   "id": "8d7bbefe",
   "metadata": {},
   "outputs": [],
   "source": [
    "import helper   # import all\n",
    "import helper as h    # import with alias\n",
    "from helper import calcAreaOfCircle  # import specific func\n",
    "from helper import *   # import all with direct usage"
   ]
  }
 ],
 "metadata": {
  "kernelspec": {
   "display_name": "Python 3",
   "language": "python",
   "name": "python3"
  },
  "language_info": {
   "codemirror_mode": {
    "name": "ipython",
    "version": 3
   },
   "file_extension": ".py",
   "mimetype": "text/x-python",
   "name": "python",
   "nbconvert_exporter": "python",
   "pygments_lexer": "ipython3",
   "version": "3.13.6"
  }
 },
 "nbformat": 4,
 "nbformat_minor": 5
}
