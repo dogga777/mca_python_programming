{
 "cells": [
  {
   "cell_type": "code",
   "execution_count": null,
   "id": "9e29d6d9",
   "metadata": {},
   "outputs": [],
   "source": [
    "name = input(\"Enter your name: \")\n",
    "print(\"Hello,\", name)\n",
    "city = input(\"Enter your city: \")\n",
    "print(\"You are from\", city)\n",
    "age = int(input(\"Enter your age: \"))\n",
    "print(\"You are\", age, \"years old.\")\n",
    "rate = float(input(\"Enter your rate: \"))\n",
    "print(\"Your rate is\", rate)"
   ]
  },
  {
   "cell_type": "code",
   "execution_count": null,
   "id": "d4f650b7",
   "metadata": {},
   "outputs": [],
   "source": [
    "print(\"Welcome to Python!\")\n",
    "print(\"Sum:\", 5 + 3)\n",
    "print(\"Hello\", \"World\", \"!\")\n",
    "name = \"Chandra\"\n",
    "print(\"Name:\", name)\n",
    "name, age, city = \"Chandra\", 23, \"parvathipuram\"\n",
    "print(\"Name:\", name, \"Age:\", age, \"City:\", city)"
   ]
  },
  {
   "cell_type": "code",
   "execution_count": null,
   "id": "f390e0b8",
   "metadata": {},
   "outputs": [],
   "source": [
    "print(\"A\", \"B\", sep=\"-\")  # Output: A-B\n",
    "print(\"Hello\", end=\"!\")   # Output: Hello!"
   ]
  },
  {
   "cell_type": "code",
   "execution_count": null,
   "id": "fea5c965",
   "metadata": {},
   "outputs": [],
   "source": [
    "name = \"Chandra\"\n",
    "age = 23\n",
    "print(f\"{name} is {age} years old.\")"
   ]
  },
  {
   "cell_type": "code",
   "execution_count": null,
   "id": "aa612313",
   "metadata": {},
   "outputs": [],
   "source": [
    "print(\"{} scored {} marks.\".format(\"Chandra\", 75))\n",
    "print(\"{1} is {0} years old.\".format(23, \"Mouli\"))"
   ]
  },
  {
   "cell_type": "code",
   "execution_count": null,
   "id": "71459ddd",
   "metadata": {},
   "outputs": [],
   "source": [
    "x = 10\n",
    "print(type(x))  "
   ]
  },
  {
   "cell_type": "code",
   "execution_count": null,
   "id": "58b1f3f8",
   "metadata": {},
   "outputs": [],
   "source": [
    "y = 3.5\n",
    "print(type(y))  # <class 'float'>"
   ]
  },
  {
   "cell_type": "code",
   "execution_count": null,
   "id": "474d954c",
   "metadata": {},
   "outputs": [],
   "source": [
    "y = 3.5\n",
    "print((y))  # example"
   ]
  },
  {
   "cell_type": "code",
   "execution_count": null,
   "id": "185c89fb",
   "metadata": {},
   "outputs": [],
   "source": [
    "z = 1 + 2j\n",
    "print(type(z))  # <class 'complex'>"
   ]
  },
  {
   "cell_type": "code",
   "execution_count": null,
   "id": "0fce2378",
   "metadata": {},
   "outputs": [],
   "source": [
    "z = 1 + 2j\n",
    "print((z))  # example"
   ]
  },
  {
   "cell_type": "code",
   "execution_count": null,
   "id": "db4af379",
   "metadata": {},
   "outputs": [],
   "source": [
    "n = None\n",
    "print(type(n))  # <class 'NoneType'>"
   ]
  },
  {
   "cell_type": "code",
   "execution_count": null,
   "id": "0432ad29",
   "metadata": {},
   "outputs": [],
   "source": [
    "n = None\n",
    "print((n))  # example"
   ]
  },
  {
   "cell_type": "code",
   "execution_count": null,
   "id": "ca74607b",
   "metadata": {},
   "outputs": [],
   "source": [
    "s = \"Python\"\n",
    "print(type(s))  # <class 'str'>"
   ]
  },
  {
   "cell_type": "code",
   "execution_count": null,
   "id": "5961c08e",
   "metadata": {},
   "outputs": [],
   "source": [
    "s = \"Python\"\n",
    "print((s))  # exmple"
   ]
  },
  {
   "cell_type": "code",
   "execution_count": null,
   "id": "9f73fb1d",
   "metadata": {},
   "outputs": [],
   "source": [
    "flag = True\n",
    "print(type(flag))  # <class 'bool'>"
   ]
  },
  {
   "cell_type": "code",
   "execution_count": null,
   "id": "227d2009",
   "metadata": {},
   "outputs": [],
   "source": [
    "flag = True\n",
    "print((flag))  # example"
   ]
  },
  {
   "cell_type": "code",
   "execution_count": null,
   "id": "83db1b2b",
   "metadata": {},
   "outputs": [],
   "source": [
    "fruits = [\"apple\", \"banana\", \"cherry\"]\n",
    "print(type(fruits))  # <class 'list'>"
   ]
  },
  {
   "cell_type": "code",
   "execution_count": null,
   "id": "739b4be1",
   "metadata": {},
   "outputs": [],
   "source": [
    "fruits = [\"apple\", \"banana\", \"cherry\"]\n",
    "print((fruits))  # example"
   ]
  },
  {
   "cell_type": "code",
   "execution_count": null,
   "id": "b70797b7",
   "metadata": {},
   "outputs": [],
   "source": [
    "point = (3, 5)\n",
    "print(type(point))  # <class 'tuple'>"
   ]
  },
  {
   "cell_type": "code",
   "execution_count": null,
   "id": "85f2fb03",
   "metadata": {},
   "outputs": [],
   "source": [
    "point = (3, 5)\n",
    "print((point))  # example"
   ]
  },
  {
   "cell_type": "code",
   "execution_count": null,
   "id": "1055ed07",
   "metadata": {},
   "outputs": [],
   "source": [
    "fruits = {\"apple\", \"banana\", \"cherry\"}\n",
    "print(type(fruits))  # <class 'set'>"
   ]
  },
  {
   "cell_type": "code",
   "execution_count": null,
   "id": "0706770b",
   "metadata": {},
   "outputs": [],
   "source": [
    "fruits = {\"apple\", \"banana\", \"cherry\"}\n",
    "print((fruits))  # example"
   ]
  },
  {
   "cell_type": "code",
   "execution_count": null,
   "id": "b2b7a3e0",
   "metadata": {},
   "outputs": [],
   "source": [
    "student = {\"name\": \"Alice\", \"age\": 22}\n",
    "print(type(student))  # <class 'dict'>"
   ]
  },
  {
   "cell_type": "code",
   "execution_count": null,
   "id": "b5161964",
   "metadata": {},
   "outputs": [],
   "source": [
    "student = {\"name\": \"Alice\", \"age\": 22}\n",
    "print((student))  # example"
   ]
  },
  {
   "cell_type": "code",
   "execution_count": null,
   "id": "90e480d5",
   "metadata": {},
   "outputs": [],
   "source": [
    "b = b\"Hello\"\n",
    "print(type(b))  # <class 'bytes'>"
   ]
  },
  {
   "cell_type": "code",
   "execution_count": null,
   "id": "b1e81474",
   "metadata": {},
   "outputs": [],
   "source": [
    "b = b\"Hello\"\n",
    "print((b))  # example"
   ]
  },
  {
   "cell_type": "code",
   "execution_count": null,
   "id": "e082062d",
   "metadata": {},
   "outputs": [],
   "source": [
    "fs = frozenset([1, 2, 3])\n",
    "print(type(fs))  # <class 'frozenset'>"
   ]
  },
  {
   "cell_type": "code",
   "execution_count": null,
   "id": "b1dc899f",
   "metadata": {},
   "outputs": [],
   "source": [
    "fs = frozenset([1, 2, 3])\n",
    "print((fs))  # example"
   ]
  },
  {
   "cell_type": "code",
   "execution_count": null,
   "id": "9cd49822",
   "metadata": {},
   "outputs": [],
   "source": [
    "from collections import OrderedDict\n",
    "od = OrderedDict()\n",
    "od[\"apple\"] = 1\n",
    "od[\"banana\"] = 2\n",
    "print(type(od))  # <class 'collections.OrderedDict'>"
   ]
  },
  {
   "cell_type": "code",
   "execution_count": null,
   "id": "9c28146b",
   "metadata": {},
   "outputs": [],
   "source": [
    "from collections import OrderedDict\n",
    "od = OrderedDict()\n",
    "od[\"apple\"] = 1\n",
    "od[\"banana\"] = 2\n",
    "print((od))  # example"
   ]
  },
  {
   "cell_type": "code",
   "execution_count": null,
   "id": "43817d22",
   "metadata": {},
   "outputs": [],
   "source": [
    "from collections import defaultdict\n",
    "dd = defaultdict(int)\n",
    "dd[\"apple\"] += 1\n",
    "print(dd)  # defaultdict(<class 'int'>, {'apple': 1})"
   ]
  },
  {
   "cell_type": "code",
   "execution_count": null,
   "id": "c0e38a2b",
   "metadata": {},
   "outputs": [],
   "source": [
    "from collections import Counter\n",
    "c = Counter([\"apple\", \"banana\", \"apple\"])\n",
    "print(c)  # Counter({'apple': 2, 'banana': 1})"
   ]
  },
  {
   "cell_type": "code",
   "execution_count": null,
   "id": "d9eff66a",
   "metadata": {},
   "outputs": [],
   "source": [
    "from collections import deque\n",
    "d = deque()\n",
    "d.append(1)\n",
    "d.appendleft(2)\n",
    "print(d)  # deque([2, 1])"
   ]
  },
  {
   "cell_type": "code",
   "execution_count": null,
   "id": "8faf8b95",
   "metadata": {},
   "outputs": [],
   "source": [
    "from collections import UserDict\n",
    "class MyDict(UserDict):\n",
    "    def __setitem__(self, key, value):\n",
    "        super().__setitem__(key, value)\n",
    "d = MyDict()\n",
    "d[\"apple\"] = 1\n",
    "print(d)  # MyDict({'apple': 1})"
   ]
  },
  {
   "cell_type": "code",
   "execution_count": null,
   "id": "7c7de786",
   "metadata": {},
   "outputs": [],
   "source": [
    "from collections import UserList\n",
    "class MyList(UserList):\n",
    "    def append(self, item):\n",
    "        super().append(item)\n",
    "l = MyList()\n",
    "l.append(1)\n",
    "print(l)  # MyList([1])"
   ]
  },
  {
   "cell_type": "code",
   "execution_count": null,
   "id": "48a14187",
   "metadata": {},
   "outputs": [],
   "source": [
    "x = 10      # x is int\n",
    "x = \"ten\"   # now x is str\n",
    "print(type(x))  # <class 'str'>"
   ]
  },
  {
   "cell_type": "code",
   "execution_count": null,
   "id": "1142f715",
   "metadata": {},
   "outputs": [],
   "source": [
    "x = 10      # x is int\n",
    "x = \"ten\"   # now x is str\n",
    "print((x))  # example"
   ]
  },
  {
   "cell_type": "code",
   "execution_count": null,
   "id": "9c7a3e53",
   "metadata": {},
   "outputs": [],
   "source": [
    "a = 5       # int\n",
    "b = 2.0     # float\n",
    "c = a + b   # int + float -> float\n",
    "print(c)    # 7.0\n",
    "print(type(c))  # <class 'float'>"
   ]
  },
  {
   "cell_type": "code",
   "execution_count": null,
   "id": "b4b012e0",
   "metadata": {},
   "outputs": [],
   "source": [
    "a = \"5\"\n",
    "b = \"2\"\n",
    "c = int(a) + int(b)  # convert strings to int\n",
    "print(c)  # 7"
   ]
  },
  {
   "cell_type": "code",
   "execution_count": null,
   "id": "07f6f9b3",
   "metadata": {},
   "outputs": [],
   "source": [
    "x = 3.7\n",
    "y = int(x)  # y is 3 (decimal part is truncated)\n",
    "print(y)"
   ]
  },
  {
   "cell_type": "code",
   "execution_count": null,
   "id": "544f1d1d",
   "metadata": {},
   "outputs": [],
   "source": [
    "x = 3.7\n",
    "y = int(x)  # y is 3 (decimal part is truncated)\n",
    "print(type(y))  # example"
   ]
  },
  {
   "cell_type": "code",
   "execution_count": null,
   "id": "f4f0128f",
   "metadata": {},
   "outputs": [],
   "source": [
    "a = 5\n",
    "b = 2\n",
    "print(a + b)  # TypeError: can only concatenate str (not \"int\") to str"
   ]
  },
  {
   "cell_type": "code",
   "execution_count": null,
   "id": "969c8e66",
   "metadata": {},
   "outputs": [],
   "source": [
    "print(int(a) + b)  # 7\n",
    "print(a + int(b))  # \"52\""
   ]
  },
  {
   "cell_type": "code",
   "execution_count": null,
   "id": "340ad3b1",
   "metadata": {},
   "outputs": [],
   "source": [
    "s = \"hello\"\n",
    "n = int(10)  # ValueError: invalid literal for int() with base 10: 'hello'"
   ]
  },
  {
   "cell_type": "code",
   "execution_count": null,
   "id": "249327ee",
   "metadata": {},
   "outputs": [],
   "source": [
    "s = \"abc\"\n",
    "try:\n",
    "        n = int(s)\n",
    "except ValueError:\n",
    "        print(\"Cannot convert to int!\")"
   ]
  },
  {
   "cell_type": "code",
   "execution_count": null,
   "id": "2fd9b538",
   "metadata": {},
   "outputs": [],
   "source": [
    "a = 10\n",
    "b = 3\n",
    "print(a + b)  # 13\n",
    "print(a / b)  # 3.333...\n",
    "print(a // b) # 3\n",
    "print(a ** b) # 1000"
   ]
  },
  {
   "cell_type": "code",
   "execution_count": null,
   "id": "f357d6b1",
   "metadata": {},
   "outputs": [],
   "source": [
    "print(5 > 2)   # True\n",
    "print(5 == 2)  # False"
   ]
  },
  {
   "cell_type": "code",
   "execution_count": null,
   "id": "0e3cce1e",
   "metadata": {},
   "outputs": [],
   "source": [
    "x = 5\n",
    "print(x > 2 and x < 10)  # True\n",
    "print(not(x == 5))       # False"
   ]
  },
  {
   "cell_type": "code",
   "execution_count": null,
   "id": "584dc324",
   "metadata": {},
   "outputs": [],
   "source": [
    "a = 5  # 0101\n",
    "b = 3  # 0011\n",
    "print(a & b)  # 1\n",
    "print(a | b)  # 7\n",
    "print(a ^ b)  # 6\n",
    "print(~a)     # -6\n",
    "print(a << 1) # 10\n",
    "print(a >> 1) # 2"
   ]
  },
  {
   "cell_type": "code",
   "execution_count": null,
   "id": "613a5028",
   "metadata": {},
   "outputs": [],
   "source": [
    "x = 10\n",
    "x += 5  # x = x + 5\n",
    "print(x)  # 15"
   ]
  },
  {
   "cell_type": "code",
   "execution_count": null,
   "id": "4239303e",
   "metadata": {},
   "outputs": [],
   "source": [
    "x = 10\n",
    "x -= 5  # x = x - 5\n",
    "print(x)  # 5"
   ]
  },
  {
   "cell_type": "code",
   "execution_count": null,
   "id": "26174853",
   "metadata": {},
   "outputs": [],
   "source": [
    "x = 10\n",
    "x *= 5  # x = x * 5\n",
    "print(x)  # 50"
   ]
  },
  {
   "cell_type": "code",
   "execution_count": null,
   "id": "3157364f",
   "metadata": {},
   "outputs": [],
   "source": [
    "x = 10\n",
    "x /= 5  # x = x / 5\n",
    "print(x)  # 2"
   ]
  },
  {
   "cell_type": "code",
   "execution_count": null,
   "id": "34c1ee83",
   "metadata": {},
   "outputs": [],
   "source": [
    "x = 10\n",
    "x //= 5  # x = x // 5\n",
    "print(x)  # 2"
   ]
  },
  {
   "cell_type": "code",
   "execution_count": null,
   "id": "6ee50cd8",
   "metadata": {},
   "outputs": [],
   "source": [
    "x = 10\n",
    "x %= 5  # x = x % 5\n",
    "print(x)  # 0"
   ]
  },
  {
   "cell_type": "code",
   "execution_count": null,
   "id": "a7494569",
   "metadata": {},
   "outputs": [],
   "source": [
    "x = 10\n",
    "x **= 5  # x = x ** 5\n",
    "print(x)  # 100000"
   ]
  },
  {
   "cell_type": "code",
   "execution_count": null,
   "id": "791da00d",
   "metadata": {},
   "outputs": [],
   "source": [
    "x = 10\n",
    "x &= 5  # x = x & 5\n",
    "print(x)  # 0"
   ]
  },
  {
   "cell_type": "code",
   "execution_count": null,
   "id": "7414b0e4",
   "metadata": {},
   "outputs": [],
   "source": [
    "x = 10\n",
    "x |= 5  # x = x | 5\n",
    "print(x)  # 15"
   ]
  },
  {
   "cell_type": "code",
   "execution_count": null,
   "id": "71ca7ab9",
   "metadata": {},
   "outputs": [],
   "source": [
    "x = 10\n",
    "x ^= 5  # x = x ^ 5\n",
    "print(x)  # 15"
   ]
  },
  {
   "cell_type": "code",
   "execution_count": null,
   "id": "bf3ff59f",
   "metadata": {},
   "outputs": [],
   "source": [
    "x = 10\n",
    "x >>= 5  # x = x >> 5\n",
    "print(x)  # 0"
   ]
  },
  {
   "cell_type": "code",
   "execution_count": null,
   "id": "69149b0e",
   "metadata": {},
   "outputs": [],
   "source": [
    "x = 10\n",
    "x <<= 5  # x = x << 5\n",
    "print(x)  # 320"
   ]
  },
  {
   "cell_type": "code",
   "execution_count": null,
   "id": "ca20f0d6",
   "metadata": {},
   "outputs": [],
   "source": [
    "nums = [1, 2, 3]\n",
    "print(2 in nums)      # True\n",
    "print(4 not in nums)  # True"
   ]
  },
  {
   "cell_type": "code",
   "execution_count": null,
   "id": "6dfd2b0d",
   "metadata": {},
   "outputs": [],
   "source": [
    "a = [1, 2]\n",
    "b = a\n",
    "c = [1, 2]\n",
    "print(a is b)      # True\n",
    "print(a is c)      # False\n",
    "print(a == c)      # True"
   ]
  },
  {
   "cell_type": "code",
   "execution_count": null,
   "id": "57f01a28",
   "metadata": {},
   "outputs": [],
   "source": []
  }
 ],
 "metadata": {
  "kernelspec": {
   "display_name": "Python 3",
   "language": "python",
   "name": "python3"
  },
  "language_info": {
   "codemirror_mode": {
    "name": "ipython",
    "version": 3
   },
   "file_extension": ".py",
   "mimetype": "text/x-python",
   "name": "python",
   "nbconvert_exporter": "python",
   "pygments_lexer": "ipython3",
   "version": "3.13.6"
  }
 },
 "nbformat": 4,
 "nbformat_minor": 5
}
