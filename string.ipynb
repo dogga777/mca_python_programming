{
 "cells": [
  {
   "cell_type": "code",
   "execution_count": 1,
   "id": "2868cf4d",
   "metadata": {},
   "outputs": [
    {
     "name": "stdout",
     "output_type": "stream",
     "text": [
      "apple\n",
      "banana\n",
      "'This is chocolate cake'\n"
     ]
    }
   ],
   "source": [
    "a = 'apple'\n",
    "b = \"banana\"\n",
    "c = \"'This is chocolate cake'\"\n",
    "print(a)\n",
    "print(b)\n",
    "print(c)"
   ]
  },
  {
   "cell_type": "code",
   "execution_count": 2,
   "id": "80c3045d",
   "metadata": {},
   "outputs": [
    {
     "name": "stdout",
     "output_type": "stream",
     "text": [
      "10 <class 'str'>\n",
      "['apple', 'banana'] <class 'str'>\n"
     ]
    }
   ],
   "source": [
    "x = str(10)\n",
    "y = str([\"apple\",\"banana\"])\n",
    "print(x,type(x))\n",
    "print(y,type(y))\n"
   ]
  },
  {
   "cell_type": "code",
   "execution_count": 3,
   "id": "601faeed",
   "metadata": {},
   "outputs": [
    {
     "name": "stdout",
     "output_type": "stream",
     "text": [
      "a\n"
     ]
    }
   ],
   "source": [
    "print(a[0])"
   ]
  },
  {
   "cell_type": "code",
   "execution_count": 5,
   "id": "d89abbeb",
   "metadata": {},
   "outputs": [
    {
     "name": "stdout",
     "output_type": "stream",
     "text": [
      "disappointed\n"
     ]
    }
   ],
   "source": [
    "x = 'disappointed'\n",
    "print(x)"
   ]
  },
  {
   "cell_type": "code",
   "execution_count": 7,
   "id": "2ec0d475",
   "metadata": {},
   "outputs": [
    {
     "name": "stdout",
     "output_type": "stream",
     "text": [
      "point\n"
     ]
    }
   ],
   "source": [
    "y = x[5:10]\n",
    "print(y)"
   ]
  },
  {
   "cell_type": "code",
   "execution_count": 8,
   "id": "eba92fb7",
   "metadata": {},
   "outputs": [
    {
     "name": "stdout",
     "output_type": "stream",
     "text": [
      "thepointis,| am not disappointed\n"
     ]
    }
   ],
   "source": [
    "y = x[5:10]\n",
    "print(f\"the{y}is,| am not {x}\")"
   ]
  },
  {
   "cell_type": "code",
   "execution_count": null,
   "id": "192091ed",
   "metadata": {},
   "outputs": [
    {
     "name": "stdout",
     "output_type": "stream",
     "text": [
      "jhonny jhonny yes papa\n",
      "            eating sugar no papa\n",
      "            telling lies no papa\n",
      "            open your mouth haa haa haa\n"
     ]
    }
   ],
   "source": [
    "poem = '''johnny johnny yes papa\n",
    "            eating sugar no papa\n",
    "            telling lies no papa\n",
    "            open your mouth ha ha ha'''\n",
    "print(poem)"
   ]
  },
  {
   "cell_type": "code",
   "execution_count": 13,
   "id": "d11d43c6",
   "metadata": {},
   "outputs": [
    {
     "name": "stdout",
     "output_type": "stream",
     "text": [
      "jhonny jhonny yes papa\n",
      "\n"
     ]
    }
   ],
   "source": [
    "y = poem[0:23]\n",
    "print(y)"
   ]
  },
  {
   "cell_type": "code",
   "execution_count": 1,
   "id": "b3bd7156",
   "metadata": {},
   "outputs": [
    {
     "name": "stdout",
     "output_type": "stream",
     "text": [
      "maintain silence in Library\n",
      "MAINTAIN SILENCE IN LIBRARY\n"
     ]
    }
   ],
   "source": [
    "s = \"maintain silence in Library\"\n",
    "supper = s.upper()\n",
    "print(s)\n",
    "print(supper)"
   ]
  },
  {
   "cell_type": "code",
   "execution_count": null,
   "id": "81bc3cdf",
   "metadata": {},
   "outputs": [
    {
     "name": "stdout",
     "output_type": "stream",
     "text": [
      "maintain the distance\n",
      "maintain the distance\n"
     ]
    }
   ],
   "source": [
    "s = \"maintain the distance\"\n",
    "lower = s.lower()\n",
    "print(s)\n",
    "print(lower)"
   ]
  },
  {
   "cell_type": "code",
   "execution_count": null,
   "id": "a0dcec6b",
   "metadata": {},
   "outputs": [
    {
     "name": "stdout",
     "output_type": "stream",
     "text": [
      "please silence in class\n",
      "Please silence in class\n"
     ]
    }
   ],
   "source": [
    "s = \"please silence in class\"\n",
    "capitalize = s.capitalize()\n",
    "print(s)\n",
    "print(capitalize)"
   ]
  },
  {
   "cell_type": "code",
   "execution_count": 4,
   "id": "aa0da185",
   "metadata": {},
   "outputs": [
    {
     "name": "stdout",
     "output_type": "stream",
     "text": [
      "please silence in class\n",
      "Please Silence In Class\n"
     ]
    }
   ],
   "source": [
    "s = \"please silence in class\"\n",
    "title = s.title()\n",
    "print(s)\n",
    "print(title)"
   ]
  },
  {
   "cell_type": "code",
   "execution_count": 5,
   "id": "eea79906",
   "metadata": {},
   "outputs": [
    {
     "name": "stdout",
     "output_type": "stream",
     "text": [
      "please silence in class\n",
      "PLEASE SILENCE IN CLASS\n"
     ]
    }
   ],
   "source": [
    "s = \"please silence in class\"\n",
    "swapcase = s.swapcase()\n",
    "print(s)\n",
    "print(swapcase)"
   ]
  },
  {
   "cell_type": "code",
   "execution_count": 6,
   "id": "31772c26",
   "metadata": {},
   "outputs": [
    {
     "name": "stdout",
     "output_type": "stream",
     "text": [
      "please silence in class\n",
      "please silence in class\n"
     ]
    }
   ],
   "source": [
    "s = \"please silence in class\"\n",
    "casefold = s.casefold()\n",
    "print(s)\n",
    "print(casefold)"
   ]
  },
  {
   "cell_type": "code",
   "execution_count": 7,
   "id": "0282d3ff",
   "metadata": {},
   "outputs": [
    {
     "name": "stdout",
     "output_type": "stream",
     "text": [
      "5\n"
     ]
    }
   ],
   "source": [
    "a = \"seven\"\n",
    "size = len(a)\n",
    "print(size)"
   ]
  },
  {
   "cell_type": "code",
   "execution_count": 8,
   "id": "8b1e3d33",
   "metadata": {},
   "outputs": [
    {
     "name": "stdout",
     "output_type": "stream",
     "text": [
      "seven\n",
      "seven     \n"
     ]
    }
   ],
   "source": [
    "a = \"seven\"\n",
    "a1 = a.ljust(10)\n",
    "print(a)\n",
    "print(a1)"
   ]
  },
  {
   "cell_type": "code",
   "execution_count": 9,
   "id": "44affbc5",
   "metadata": {},
   "outputs": [
    {
     "name": "stdout",
     "output_type": "stream",
     "text": [
      "seven\n",
      "seven     \n",
      "seven-----\n"
     ]
    }
   ],
   "source": [
    "a = \"seven\"\n",
    "a1 = a.ljust(10)\n",
    "print(a)\n",
    "print(a1)\n",
    "a2 = a.ljust(10,'-')\n",
    "print(a2)"
   ]
  },
  {
   "cell_type": "code",
   "execution_count": 10,
   "id": "77d10e1f",
   "metadata": {},
   "outputs": [
    {
     "name": "stdout",
     "output_type": "stream",
     "text": [
      "seven\n",
      "seven     \n",
      "seven-----\n",
      "               seven\n",
      "111111111111111seven\n",
      "    seven    \n",
      "****seven****\n"
     ]
    }
   ],
   "source": [
    "a = \"seven\"\n",
    "a1 = a.ljust(10)\n",
    "print(a)\n",
    "print(a1)\n",
    "a2 = a.ljust(10,'-')\n",
    "print(a2)\n",
    "a3 = a.rjust(20)\n",
    "a4 = a.rjust(20,\"1\")\n",
    "a5 = a.center(13)\n",
    "a6 = a.center(13,'*')\n",
    "print(a3,a4,a5,a6,sep='\\n')"
   ]
  },
  {
   "cell_type": "code",
   "execution_count": 11,
   "id": "2c68c1c6",
   "metadata": {},
   "outputs": [
    {
     "name": "stdout",
     "output_type": "stream",
     "text": [
      "               seven\n"
     ]
    }
   ],
   "source": [
    "a3 = a.rjust(20)\n",
    "print(a3)"
   ]
  },
  {
   "cell_type": "code",
   "execution_count": 15,
   "id": "ec11e702",
   "metadata": {},
   "outputs": [
    {
     "name": "stdout",
     "output_type": "stream",
     "text": [
      "|||||||||||||||seven\n"
     ]
    }
   ],
   "source": [
    "a4 = a.rjust(20,\"|\")\n",
    "print(a4)"
   ]
  },
  {
   "cell_type": "code",
   "execution_count": 13,
   "id": "5a35616b",
   "metadata": {},
   "outputs": [
    {
     "name": "stdout",
     "output_type": "stream",
     "text": [
      "    seven    \n"
     ]
    }
   ],
   "source": [
    "a5 = a.center(13)\n",
    "print(a5)"
   ]
  },
  {
   "cell_type": "code",
   "execution_count": 14,
   "id": "68771ebb",
   "metadata": {},
   "outputs": [
    {
     "name": "stdout",
     "output_type": "stream",
     "text": [
      "****seven****\n"
     ]
    }
   ],
   "source": [
    "a6 = a.center(13,'*')\n",
    "print(a6)"
   ]
  },
  {
   "cell_type": "code",
   "execution_count": 16,
   "id": "f5c26926",
   "metadata": {},
   "outputs": [
    {
     "name": "stdout",
     "output_type": "stream",
     "text": [
      "False\n",
      "True\n",
      "True\n",
      "False\n"
     ]
    }
   ],
   "source": [
    "s = \"maintain the seven in the int\"\n",
    "x = input()\n",
    "print(x.isalpha())\n",
    "print(x.isalnum())\n",
    "print(x.isdigit())\n",
    "print(x.isspace())"
   ]
  },
  {
   "cell_type": "code",
   "execution_count": 18,
   "id": "65bf6787",
   "metadata": {},
   "outputs": [
    {
     "name": "stdout",
     "output_type": "stream",
     "text": [
      "hello\n",
      "False\n",
      "True\n",
      "False\n"
     ]
    }
   ],
   "source": [
    "a = input()\n",
    "a1 = a.startswith(\"a\")\n",
    "a2 = a.startswith(\"hello\")\n",
    "a3 = a.startswith('b')\n",
    "print(a,a1,a2,a3,sep='\\n')"
   ]
  },
  {
   "cell_type": "markdown",
   "id": "43b8b76f",
   "metadata": {},
   "source": [
    "UTILITY METHOD  "
   ]
  },
  {
   "cell_type": "code",
   "execution_count": 1,
   "id": "ac7fd5ed",
   "metadata": {},
   "outputs": [
    {
     "name": "stdout",
     "output_type": "stream",
     "text": [
      "Once upon a time twice upon a time\n"
     ]
    }
   ],
   "source": [
    "s = \"Once upon a time\"\n",
    "s2 = s.replace('Once','twice')\n",
    "print(s,s2)"
   ]
  },
  {
   "cell_type": "code",
   "execution_count": 2,
   "id": "7d573eba",
   "metadata": {},
   "outputs": [
    {
     "name": "stdout",
     "output_type": "stream",
     "text": [
      "Onci upon a timi\n"
     ]
    }
   ],
   "source": [
    "s3 = s.replace('e','i')\n",
    "print(s3)"
   ]
  },
  {
   "cell_type": "code",
   "execution_count": null,
   "id": "7dd43d32",
   "metadata": {},
   "outputs": [
    {
     "name": "stdout",
     "output_type": "stream",
     "text": [
      "py#t#h#o#n\n",
      "python\n"
     ]
    }
   ],
   "source": [
    "# replace for removing content\n",
    "data = 'py#t#h#o#n'\n",
    "cleaned_data = data.replace('#','') # just single quotetations\n",
    "print(data,cleaned_data,sep='\\n')"
   ]
  },
  {
   "cell_type": "code",
   "execution_count": 4,
   "id": "215d6d09",
   "metadata": {},
   "outputs": [
    {
     "name": "stdout",
     "output_type": "stream",
     "text": [
      "7\n"
     ]
    }
   ],
   "source": [
    "m = \"Alpine mountain range\"\n",
    "print(m.find('mountain'))"
   ]
  },
  {
   "cell_type": "code",
   "execution_count": 6,
   "id": "07328541",
   "metadata": {},
   "outputs": [
    {
     "name": "stdout",
     "output_type": "stream",
     "text": [
      "7\n",
      "-1\n",
      "2\n",
      "3\n",
      "13\n"
     ]
    }
   ],
   "source": [
    "m = \"Alpine mountain range\"\n",
    "print(m.find('mountain'))\n",
    "print(m.find('lion')) #out -1\n",
    "print(m.find('pine')) #out -2\n",
    "print(m.find('i'))\n",
    "print(m.find('i',4))"
   ]
  },
  {
   "cell_type": "markdown",
   "id": "5ac8ef72",
   "metadata": {},
   "source": [
    "Split & Join"
   ]
  },
  {
   "cell_type": "code",
   "execution_count": 8,
   "id": "52569ba1",
   "metadata": {},
   "outputs": [
    {
     "name": "stdout",
     "output_type": "stream",
     "text": [
      "life before death,courage before despar,journey before destination\n",
      "['life', 'before', 'death,courage', 'before', 'despar,journey', 'before', 'destination']\n",
      "['life before death', 'courage before despar', 'journey before destination']\n"
     ]
    }
   ],
   "source": [
    "quote = '''life before death,courage before despar,journey before destination'''\n",
    "words = quote.split()  # str--->list\n",
    "print(quote)\n",
    "print(words)\n",
    "sentences = quote.split(',')\n",
    "print(sentences)"
   ]
  },
  {
   "cell_type": "code",
   "execution_count": 9,
   "id": "15b296f6",
   "metadata": {},
   "outputs": [
    {
     "name": "stdout",
     "output_type": "stream",
     "text": [
      "['life before death', 'courage before despar', 'journey before destination']\n"
     ]
    }
   ],
   "source": [
    "sentences = quote.split(',')\n",
    "print(sentences)"
   ]
  },
  {
   "cell_type": "code",
   "execution_count": 11,
   "id": "ef859d30",
   "metadata": {},
   "outputs": [
    {
     "name": "stdout",
     "output_type": "stream",
     "text": [
      "['Mbu', 'sree sainath nagar', 'Tirupati', 'AP', '517102']\n",
      "Mbu,sree sainath nagar,Tirupati,AP,517102\n",
      "Mbu_sree sainath nagar_Tirupati_AP_517102 Mbu\n",
      "sree sainath nagar\n",
      "Tirupati\n",
      "AP\n",
      "517102 Mbuwhatsree sainath nagarwhatTirupatiwhatAPwhat517102\n"
     ]
    }
   ],
   "source": [
    "addr = ['Mbu','sree sainath nagar','Tirupati','AP','517102']\n",
    "addr_str = \",\".join(addr)\n",
    "print(addr,addr_str,sep='\\n')\n",
    "addr2 = \"_\".join(addr)\n",
    "addr3 = \"\\n\".join(addr)\n",
    "addr4 = \"what\".join(addr)\n",
    "print(addr2,addr3,addr4)"
   ]
  },
  {
   "cell_type": "code",
   "execution_count": 12,
   "id": "055d1bc2",
   "metadata": {},
   "outputs": [
    {
     "name": "stdout",
     "output_type": "stream",
     "text": [
      "Mbu_sree sainath nagar_Tirupati_AP_517102 Mbu\n",
      "sree sainath nagar\n",
      "Tirupati\n",
      "AP\n",
      "517102 Mbuwhatsree sainath nagarwhatTirupatiwhatAPwhat517102\n"
     ]
    }
   ],
   "source": [
    "addr2 = \"_\".join(addr)\n",
    "addr3 = \"\\n\".join(addr)\n",
    "addr4 = \"what\".join(addr)\n",
    "print(addr2,addr3,addr4)"
   ]
  },
  {
   "cell_type": "markdown",
   "id": "eeaf6b5d",
   "metadata": {},
   "source": [
    "Functions & Modules"
   ]
  },
  {
   "cell_type": "code",
   "execution_count": null,
   "id": "d3bba87f",
   "metadata": {},
   "outputs": [],
   "source": []
  }
 ],
 "metadata": {
  "kernelspec": {
   "display_name": "Python 3",
   "language": "python",
   "name": "python3"
  },
  "language_info": {
   "codemirror_mode": {
    "name": "ipython",
    "version": 3
   },
   "file_extension": ".py",
   "mimetype": "text/x-python",
   "name": "python",
   "nbconvert_exporter": "python",
   "pygments_lexer": "ipython3",
   "version": "3.13.6"
  }
 },
 "nbformat": 4,
 "nbformat_minor": 5
}
