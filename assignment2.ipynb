{
 "cells": [
  {
   "cell_type": "code",
   "execution_count": 2,
   "id": "5d3f702c",
   "metadata": {},
   "outputs": [
    {
     "name": "stdout",
     "output_type": "stream",
     "text": [
      "ADULT\n"
     ]
    }
   ],
   "source": [
    "# Age checker \n",
    "# write a program that takes an age is input and prints \"Adult\" if age >= 18, otherwise \"minor\"\n",
    "\n",
    "x =  int(input(\"enter the age:\"))\n",
    "\n",
    "age = 23\n",
    "if age >=18:\n",
    "    print(\"ADULT\")\n",
    "else:\n",
    "    print(\"MINOR\")\n",
    "    "
   ]
  },
  {
   "cell_type": "code",
   "execution_count": 8,
   "id": "26f6ce1f",
   "metadata": {},
   "outputs": [
    {
     "name": "stdout",
     "output_type": "stream",
     "text": [
      "ODD\n"
     ]
    }
   ],
   "source": [
    "# Even or Odd\n",
    "\n",
    "# Take a number as input and print “Even” if it’s even, “Odd” if it’s odd.\n",
    "\n",
    "# Hint: Use modulo operator % with if-else.\n",
    "\n",
    "num = int(input(\"enter the number:\"))\n",
    "if num % 2== 0:\n",
    "    print(\"EVEN\")\n",
    "else:\n",
    "    print(\"ODD\")\n"
   ]
  },
  {
   "cell_type": "code",
   "execution_count": null,
   "id": "1c6baa7d",
   "metadata": {},
   "outputs": [
    {
     "name": "stdout",
     "output_type": "stream",
     "text": [
      "FAIL\n"
     ]
    }
   ],
   "source": [
    "# Grade Calculator\n",
    "\n",
    "# Input a score (0-100) and print the grade: A (90-100), B (80-89), C (70-79), D (60-69), F (below 60).\n",
    "\n",
    "# Hint: Use if-elif-else chain.\n",
    "\n",
    "score = int(input(\"enter a grades:\"))\n",
    "if score>=90 and score==100:\n",
    "    print(\"GRADE A\")c\n",
    "elif score>=80 and score==89:\n",
    "    print(\"GRADE B\")\n",
    "elif score>=70 and score==79:\n",
    "    print(\"GRADE C\")\n",
    "elif score>=60 and score==69:\n",
    "    print(\"GRADE D\")\n",
    "else:\n",
    "    print(\"FAIL\")"
   ]
  },
  {
   "cell_type": "code",
   "execution_count": 1,
   "id": "21fe409b",
   "metadata": {},
   "outputs": [
    {
     "name": "stdout",
     "output_type": "stream",
     "text": [
      "The number is Positive\n"
     ]
    }
   ],
   "source": [
    "# Take input from the user\n",
    "num = int(input(\"Enter a number: \"))\n",
    "\n",
    "# Check if the number is positive, negative, or zero\n",
    "if num > 0:\n",
    "    print(\"The number is Positive\")\n",
    "elif num < 0:\n",
    "    print(\"The number is Negative\")\n",
    "else:\n",
    "    print(\"The number is Zero\")\n"
   ]
  },
  {
   "cell_type": "code",
   "execution_count": 2,
   "id": "813c60f5",
   "metadata": {},
   "outputs": [
    {
     "name": "stdout",
     "output_type": "stream",
     "text": [
      "The sum of first 5 natural numbers is: 15\n"
     ]
    }
   ],
   "source": [
    "# Take input from the user\n",
    "N = int(input(\"Enter a number: \"))\n",
    "total = 0\n",
    "for i in range(1, N + 1):\n",
    "    total += i\n",
    "print(\"The sum of first\", N, \"natural numbers is:\", total)\n"
   ]
  },
  {
   "cell_type": "code",
   "execution_count": 3,
   "id": "acf1fe93",
   "metadata": {},
   "outputs": [
    {
     "name": "stdout",
     "output_type": "stream",
     "text": [
      "The factorial of 5 is: 120\n"
     ]
    }
   ],
   "source": [
    "# Take input from the user\n",
    "N = int(input(\"Enter a number: \"))\n",
    "factorial = 1\n",
    "i = 1\n",
    "while i <= N:\n",
    "    factorial *= i\n",
    "    i += 1\n",
    "print(\"The factorial of\", N, \"is:\", factorial)\n"
   ]
  },
  {
   "cell_type": "code",
   "execution_count": null,
   "id": "0e3f69e8",
   "metadata": {},
   "outputs": [
    {
     "name": "stdout",
     "output_type": "stream",
     "text": [
      "5 x 1 = 5\n",
      "5 x 2 = 10\n",
      "5 x 3 = 15\n",
      "5 x 4 = 20\n",
      "5 x 5 = 25\n",
      "5 x 6 = 30\n",
      "5 x 7 = 35\n",
      "5 x 8 = 40\n",
      "5 x 9 = 45\n",
      "5 x 10 = 50\n"
     ]
    }
   ],
   "source": [
    "# Take input from the user\n",
    "num = int(input(\"Enter a number: \"))\n",
    "for i in range(1, 11):\n",
    "    print(num, \"x\", i, \"=\", num * i)\n"
   ]
  },
  {
   "cell_type": "code",
   "execution_count": 6,
   "id": "b1f7b35e",
   "metadata": {},
   "outputs": [
    {
     "name": "stdout",
     "output_type": "stream",
     "text": [
      "The number 2025 has 4 digits\n"
     ]
    }
   ],
   "source": [
    "# Take input from the user\n",
    "num = int(input(\"Enter a number: \"))\n",
    "count = 0\n",
    "n = num  # make a copy so we don’t lose the original number\n",
    "if n == 0:\n",
    "    count = 1\n",
    "else:\n",
    "    \n",
    "    while n > 0:\n",
    "        n //= 10   \n",
    "        count += 1\n",
    "print(\"The number\", num, \"has\", count, \"digits\")\n"
   ]
  },
  {
   "cell_type": "code",
   "execution_count": 7,
   "id": "3202e482",
   "metadata": {},
   "outputs": [
    {
     "name": "stdout",
     "output_type": "stream",
     "text": [
      "The sum of even numbers from 1 to 10 is: 30\n"
     ]
    }
   ],
   "source": [
    "# Take input from the user\n",
    "N = int(input(\"Enter a number: \"))\n",
    "total = 0\n",
    "for i in range(1, N + 1):\n",
    "    if i % 2 == 0:   # check if even\n",
    "        total += i\n",
    "print(\"The sum of even numbers from 1 to\", N, \"is:\", total)\n"
   ]
  },
  {
   "cell_type": "code",
   "execution_count": 8,
   "id": "6faff57e",
   "metadata": {},
   "outputs": [
    {
     "name": "stdout",
     "output_type": "stream",
     "text": [
      "Reversed string: nohtyp\n"
     ]
    }
   ],
   "source": [
    "# Take input from the user\n",
    "text = input(\"Enter a string: \")\n",
    "reverse = \"\"\n",
    "for i in range(len(text) - 1, -1, -1):\n",
    "    reverse += text[i]\n",
    "print(\"Reversed string:\", reverse)\n"
   ]
  },
  {
   "cell_type": "code",
   "execution_count": 9,
   "id": "884f45e2",
   "metadata": {},
   "outputs": [
    {
     "name": "stdout",
     "output_type": "stream",
     "text": [
      "7 is a prime number\n"
     ]
    }
   ],
   "source": [
    "# Take input from the user\n",
    "num = int(input(\"Enter a number: \"))\n",
    "if num <= 1:\n",
    "    print(num, \"is not a prime number\")\n",
    "else:\n",
    "    is_prime = True\n",
    "    for i in range(2, num):\n",
    "        if num % i == 0:\n",
    "            is_prime = False\n",
    "            break   # stop checking further\n",
    "    \n",
    "    if is_prime:\n",
    "        print(num, \"is a prime number\")\n",
    "    else:\n",
    "        print(num, \"is not a prime number\")\n"
   ]
  },
  {
   "cell_type": "code",
   "execution_count": 10,
   "id": "aa773b7b",
   "metadata": {},
   "outputs": [
    {
     "name": "stdout",
     "output_type": "stream",
     "text": [
      "Fibonacci series: 0 1 1 2 3 5 8 "
     ]
    }
   ],
   "source": [
    "# Take input from the user\n",
    "N = int(input(\"Enter the number of terms: \"))\n",
    "a, b = 0, 1\n",
    "print(\"Fibonacci series:\", end=\" \")\n",
    "for i in range(N):\n",
    "    print(a, end=\" \")\n",
    "    # Update values\n",
    "    a, b = b, a + b\n"
   ]
  },
  {
   "cell_type": "code",
   "execution_count": 11,
   "id": "40230068",
   "metadata": {},
   "outputs": [
    {
     "name": "stdout",
     "output_type": "stream",
     "text": [
      "Index: 0 Name: Alice\n",
      "Index: 1 Name: Bob\n",
      "Index: 2 Name: Charlie\n",
      "Index: 3 Name: David\n"
     ]
    }
   ],
   "source": [
    "# List of names\n",
    "names = [\"Alice\", \"Bob\", \"Charlie\", \"David\"]\n",
    "for index, name in enumerate(names):\n",
    "    print(\"Index:\", index, \"Name:\", name)\n"
   ]
  },
  {
   "cell_type": "code",
   "execution_count": 12,
   "id": "6641b9f6",
   "metadata": {},
   "outputs": [
    {
     "name": "stdout",
     "output_type": "stream",
     "text": [
      "1 - a\n",
      "2 - b\n",
      "3 - c\n",
      "4 - d\n"
     ]
    }
   ],
   "source": [
    "# Two lists\n",
    "list1 = [1, 2, 3, 4]\n",
    "list2 = [\"a\", \"b\", \"c\", \"d\"]\n",
    "for num, char in zip(list1, list2):\n",
    "    print(num, \"-\", char)\n"
   ]
  },
  {
   "cell_type": "code",
   "execution_count": 13,
   "id": "95b69a9f",
   "metadata": {},
   "outputs": [
    {
     "name": "stdout",
     "output_type": "stream",
     "text": [
      "Dictionary: {'name': 'Alice', 'age': 25, 'city': 'New York'}\n"
     ]
    }
   ],
   "source": [
    "# Two lists\n",
    "keys = [\"name\", \"age\", \"city\"]\n",
    "values = [\"Alice\", 25, \"New York\"]\n",
    "my_dict = dict(zip(keys, values))\n",
    "print(\"Dictionary:\", my_dict)\n"
   ]
  },
  {
   "cell_type": "code",
   "execution_count": 14,
   "id": "c3b1b61d",
   "metadata": {},
   "outputs": [
    {
     "name": "stdout",
     "output_type": "stream",
     "text": [
      "banana found in the list!\n"
     ]
    }
   ],
   "source": [
    "# List of items\n",
    "fruits = [\"apple\", \"banana\", \"cherry\", \"date\"]\n",
    "search_item = input(\"Enter the fruit to search: \")\n",
    "for fruit in fruits:\n",
    "    if fruit == search_item:\n",
    "        print(search_item, \"found in the list!\")\n",
    "        break\n",
    "else:\n",
    "    print(search_item, \"not found in the list.\")\n"
   ]
  },
  {
   "cell_type": "code",
   "execution_count": 15,
   "id": "3bac2e0a",
   "metadata": {},
   "outputs": [
    {
     "name": "stdout",
     "output_type": "stream",
     "text": [
      "1\n",
      "2\n",
      "3\n",
      "4\n",
      "5\n",
      "6\n",
      "Reached a multiple of 7: 7\n"
     ]
    }
   ],
   "source": [
    "# Loop from 1 to 100\n",
    "for i in range(1, 101):\n",
    "    if i % 7 == 0:   # Check if multiple of 7\n",
    "        print(\"Reached a multiple of 7:\", i)\n",
    "        break\n",
    "    print(i)\n"
   ]
  },
  {
   "cell_type": "code",
   "execution_count": 16,
   "id": "455721b1",
   "metadata": {},
   "outputs": [
    {
     "name": "stdout",
     "output_type": "stream",
     "text": [
      "1\n",
      "2\n",
      "4\n",
      "5\n",
      "7\n",
      "8\n",
      "10\n"
     ]
    }
   ],
   "source": [
    "# Loop from 1 to 10\n",
    "for i in range(1, 11):\n",
    "    if i % 3 == 0:   # Skip multiples of 3\n",
    "        continue\n",
    "    print(i)\n"
   ]
  },
  {
   "cell_type": "code",
   "execution_count": 17,
   "id": "adf70bfd",
   "metadata": {},
   "outputs": [
    {
     "name": "stdout",
     "output_type": "stream",
     "text": [
      "1\n",
      "2\n",
      "4\n",
      "5\n"
     ]
    }
   ],
   "source": [
    "# Loop from 1 to 5\n",
    "for i in range(1, 6):\n",
    "    if i == 3:\n",
    "        pass  # Do nothing when i is 3\n",
    "    else:\n",
    "        print(i)\n"
   ]
  },
  {
   "cell_type": "code",
   "execution_count": 18,
   "id": "5eaf2063",
   "metadata": {},
   "outputs": [
    {
     "name": "stdout",
     "output_type": "stream",
     "text": [
      "Squares from 1 to 10: [1, 4, 9, 16, 25, 36, 49, 64, 81, 100]\n"
     ]
    }
   ],
   "source": [
    "# Using list comprehension\n",
    "squares = [x**2 for x in range(1, 11)]\n",
    "print(\"Squares from 1 to 10:\", squares)\n"
   ]
  },
  {
   "cell_type": "code",
   "execution_count": 19,
   "id": "621a51b4",
   "metadata": {},
   "outputs": [
    {
     "name": "stdout",
     "output_type": "stream",
     "text": [
      "Even numbers from 1 to 20: [2, 4, 6, 8, 10, 12, 14, 16, 18, 20]\n"
     ]
    }
   ],
   "source": [
    "# List of even numbers from 1 to 20\n",
    "even_numbers = [x for x in range(1, 21) if x % 2 == 0]\n",
    "print(\"Even numbers from 1 to 20:\", even_numbers)\n"
   ]
  },
  {
   "cell_type": "code",
   "execution_count": 20,
   "id": "0629ab23",
   "metadata": {},
   "outputs": [
    {
     "name": "stdout",
     "output_type": "stream",
     "text": [
      "Dictionary of squares: {1: 1, 2: 4, 3: 9, 4: 16, 5: 25}\n"
     ]
    }
   ],
   "source": [
    "# Create dictionary with numbers as keys and their squares as values\n",
    "squares_dict = {x: x**2 for x in range(1, 6)}\n",
    "print(\"Dictionary of squares:\", squares_dict)\n"
   ]
  },
  {
   "cell_type": "code",
   "execution_count": 21,
   "id": "13019e0c",
   "metadata": {},
   "outputs": [
    {
     "name": "stdout",
     "output_type": "stream",
     "text": [
      "Lengths of strings: [5, 6, 6, 4]\n"
     ]
    }
   ],
   "source": [
    "# List of strings\n",
    "words = [\"apple\", \"banana\", \"cherry\", \"date\"]\n",
    "# Create a list of their lengths\n",
    "lengths = [len(word) for word in words]\n",
    "print(\"Lengths of strings:\", lengths)\n"
   ]
  },
  {
   "cell_type": "code",
   "execution_count": 22,
   "id": "261b371c",
   "metadata": {},
   "outputs": [
    {
     "name": "stdout",
     "output_type": "stream",
     "text": [
      "*\n",
      "**\n",
      "***\n",
      "****\n",
      "*****\n"
     ]
    }
   ],
   "source": [
    "# Number of rows\n",
    "rows = 5\n",
    "# Outer loop for each row\n",
    "for i in range(1, rows + 1):\n",
    "    # Inner loop for stars in each row\n",
    "    for j in range(i):\n",
    "        print(\"*\", end=\"\")  \n",
    "    print()  \n"
   ]
  },
  {
   "cell_type": "code",
   "execution_count": 23,
   "id": "6e7f640f",
   "metadata": {},
   "outputs": [
    {
     "name": "stdout",
     "output_type": "stream",
     "text": [
      "Sum of the two matrices:\n",
      "[6, 8]\n",
      "[10, 12]\n"
     ]
    }
   ],
   "source": [
    "# Input two 2x2 matrices\n",
    "matrix1 = [[1, 2],\n",
    "           [3, 4]]\n",
    "matrix2 = [[5, 6],\n",
    "           [7, 8]]\n",
    "result = [[0, 0],\n",
    "          [0, 0]]\n",
    "for i in range(2):          # Rows\n",
    "    for j in range(2):      # Columns\n",
    "        result[i][j] = matrix1[i][j] + matrix2[i][j]\n",
    "print(\"Sum of the two matrices:\")\n",
    "for row in result:\n",
    "    print(row)\n"
   ]
  },
  {
   "cell_type": "code",
   "execution_count": 24,
   "id": "6690eb48",
   "metadata": {},
   "outputs": [
    {
     "name": "stdout",
     "output_type": "stream",
     "text": [
      "Result: 1.0\n"
     ]
    }
   ],
   "source": [
    "# Take input from the user\n",
    "num1 = float(input(\"Enter numerator: \"))\n",
    "num2 = float(input(\"Enter denominator: \"))\n",
    "try:\n",
    "    result = num1 / num2\n",
    "    print(\"Result:\", result)\n",
    "except ZeroDivisionError:\n",
    "    print(\"Error: Cannot divide by zero!\")\n"
   ]
  },
  {
   "cell_type": "code",
   "execution_count": 25,
   "id": "52e1ec61",
   "metadata": {},
   "outputs": [
    {
     "name": "stdout",
     "output_type": "stream",
     "text": [
      "You entered the number: 25\n"
     ]
    }
   ],
   "source": [
    "# Take input from the user\n",
    "user_input = input(\"Enter a number: \")\n",
    "try:\n",
    "    number = int(user_input)\n",
    "    print(\"You entered the number:\", number)\n",
    "except ValueError:\n",
    "    print(\"Error: Invalid input! Please enter a valid integer.\")\n"
   ]
  },
  {
   "cell_type": "code",
   "execution_count": 26,
   "id": "644bda12",
   "metadata": {},
   "outputs": [
    {
     "name": "stdout",
     "output_type": "stream",
     "text": [
      "Error: The file example.txt does not exist.\n"
     ]
    }
   ],
   "source": [
    "# File name to read\n",
    "filename = \"example.txt\"\n",
    "try:\n",
    "    with open(filename, \"r\") as file:\n",
    "        content = file.read()\n",
    "        print(\"File content:\\n\", content)\n",
    "except FileNotFoundError:\n",
    "    print(\"Error: The file\", filename, \"does not exist.\")\n"
   ]
  },
  {
   "cell_type": "code",
   "execution_count": 27,
   "id": "054fc663",
   "metadata": {},
   "outputs": [
    {
     "name": "stdout",
     "output_type": "stream",
     "text": [
      "Result: 1.0\n"
     ]
    }
   ],
   "source": [
    "# Take input from the user\n",
    "try:\n",
    "    num1 = int(input(\"Enter numerator: \"))\n",
    "    num2 = int(input(\"Enter denominator: \"))\n",
    "    result = num1 / num2\n",
    "    print(\"Result:\", result)\n",
    "except ValueError:\n",
    "    print(\"Error: Invalid input! Please enter integers only.\")\n",
    "except ZeroDivisionError:\n",
    "    print(\"Error: Cannot divide by zero!\")\n"
   ]
  },
  {
   "cell_type": "code",
   "execution_count": 28,
   "id": "bf637748",
   "metadata": {},
   "outputs": [
    {
     "name": "stdout",
     "output_type": "stream",
     "text": [
      "Error: The file example.txt does not exist.\n"
     ]
    }
   ],
   "source": [
    "filename = \"example.txt\"\n",
    "try:\n",
    "    file = open(filename, \"r\")\n",
    "    content = file.read()\n",
    "    print(\"File content:\\n\", content)\n",
    "except FileNotFoundError:\n",
    "    print(\"Error: The file\", filename, \"does not exist.\")\n",
    "finally:\n",
    "    try:\n",
    "        file.close()\n",
    "        print(\"File closed successfully.\")\n",
    "    except NameError:\n",
    "        pass\n"
   ]
  },
  {
   "cell_type": "code",
   "execution_count": null,
   "id": "2e3ebe39",
   "metadata": {},
   "outputs": [],
   "source": []
  }
 ],
 "metadata": {
  "kernelspec": {
   "display_name": "Python 3",
   "language": "python",
   "name": "python3"
  },
  "language_info": {
   "codemirror_mode": {
    "name": "ipython",
    "version": 3
   },
   "file_extension": ".py",
   "mimetype": "text/x-python",
   "name": "python",
   "nbconvert_exporter": "python",
   "pygments_lexer": "ipython3",
   "version": "3.13.6"
  }
 },
 "nbformat": 4,
 "nbformat_minor": 5
}
