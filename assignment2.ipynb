{
 "cells": [
  {
   "cell_type": "code",
   "execution_count": 2,
   "id": "5d3f702c",
   "metadata": {},
   "outputs": [
    {
     "name": "stdout",
     "output_type": "stream",
     "text": [
      "ADULT\n"
     ]
    }
   ],
   "source": [
    "# Age checker \n",
    "# write a program that takes an age is input and prints \"Adult\" if age >= 18, otherwise \"minor\"\n",
    "\n",
    "x =  int(input(\"enter the age:\"))\n",
    "\n",
    "age = 23\n",
    "if age >=18:\n",
    "    print(\"ADULT\")\n",
    "else:\n",
    "    print(\"MINOR\")\n",
    "    "
   ]
  },
  {
   "cell_type": "code",
   "execution_count": 8,
   "id": "26f6ce1f",
   "metadata": {},
   "outputs": [
    {
     "name": "stdout",
     "output_type": "stream",
     "text": [
      "ODD\n"
     ]
    }
   ],
   "source": [
    "# Even or Odd\n",
    "\n",
    "# Take a number as input and print “Even” if it’s even, “Odd” if it’s odd.\n",
    "\n",
    "# Hint: Use modulo operator % with if-else.\n",
    "\n",
    "num = int(input(\"enter the number:\"))\n",
    "if num % 2== 0:\n",
    "    print(\"EVEN\")\n",
    "else:\n",
    "    print(\"ODD\")\n"
   ]
  },
  {
   "cell_type": "code",
   "execution_count": 9,
   "id": "1c6baa7d",
   "metadata": {},
   "outputs": [
    {
     "name": "stdout",
     "output_type": "stream",
     "text": [
      "FAIL\n"
     ]
    }
   ],
   "source": [
    "# Grade Calculator\n",
    "\n",
    "# Input a score (0-100) and print the grade: A (90-100), B (80-89), C (70-79), D (60-69), F (below 60).\n",
    "\n",
    "# Hint: Use if-elif-else chain.\n",
    "\n",
    "score = int(input(\"enter a grades:\"))\n",
    "if score>=90 and score==100:\n",
    "    print(\"GRADE A\")\n",
    "elif score>=80 and score==89:\n",
    "    print(\"GRADE B\")\n",
    "elif score>=70 and score==79:\n",
    "    print(\"GRADE C\")\n",
    "elif score>=60 and score==69:\n",
    "    print(\"GRADE D\")\n",
    "else:\n",
    "    print(\"FAIL\")"
   ]
  },
  {
   "cell_type": "code",
   "execution_count": null,
   "id": "21fe409b",
   "metadata": {},
   "outputs": [],
   "source": []
  }
 ],
 "metadata": {
  "kernelspec": {
   "display_name": "Python 3",
   "language": "python",
   "name": "python3"
  },
  "language_info": {
   "codemirror_mode": {
    "name": "ipython",
    "version": 3
   },
   "file_extension": ".py",
   "mimetype": "text/x-python",
   "name": "python",
   "nbconvert_exporter": "python",
   "pygments_lexer": "ipython3",
   "version": "3.13.6"
  }
 },
 "nbformat": 4,
 "nbformat_minor": 5
}
