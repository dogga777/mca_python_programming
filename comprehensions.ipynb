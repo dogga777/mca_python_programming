{
 "cells": [
  {
   "cell_type": "code",
   "execution_count": 5,
   "id": "13a9011f",
   "metadata": {},
   "outputs": [
    {
     "name": "stdout",
     "output_type": "stream",
     "text": [
      "['puspha', 'kannapa', 'jinna', 'journey', 'little hearts', 'court', 'lucky bhaskar', 'thammudu', 'santhosam', 'kalisundam raa', 'nuvvu naku nachav', 'baby', '7g brundhvan colony', 'remo', 'orange', 'rx 100', 'arjun reddy', 'mangalvaram']\n",
      "[6, 7, 5, 7, 13, 5, 13, 8, 9, 14, 17, 4, 19, 4, 6, 6, 11, 11]\n"
     ]
    }
   ],
   "source": [
    "movies = ['puspha','kannapa','jinna','journey','little hearts','court','lucky bhaskar','thammudu','santhosam','kalisundam raa','nuvvu naku nachav','baby','7g brundhvan colony','remo','orange','rx 100','arjun reddy','mangalvaram']\n",
    "movielen = []\n",
    "for movie in movies:\n",
    "    size = len(movie)\n",
    "    movielen.append(size)\n",
    "print(movies)\n",
    "print(movielen)"
   ]
  },
  {
   "cell_type": "code",
   "execution_count": 6,
   "id": "9de09b6c",
   "metadata": {},
   "outputs": [
    {
     "name": "stdout",
     "output_type": "stream",
     "text": [
      "['puspha', 'kannapa', 'jinna', 'journey', 'little hearts', 'court', 'lucky bhaskar', 'thammudu', 'santhosam', 'kalisundam raa', 'nuvvu naku nachav', 'baby', '7g brundhvan colony', 'remo', 'orange', 'rx 100', 'arjun reddy', 'mangalvaram']\n",
      "[6, 7, 5, 7, 13, 5, 13, 8, 9, 14, 17, 4, 19, 4, 6, 6, 11, 11]\n"
     ]
    }
   ],
   "source": [
    "movielen = [len(movie) for movie in movies]\n",
    "print(movies)\n",
    "print(movielen)"
   ]
  },
  {
   "cell_type": "code",
   "execution_count": null,
   "id": "270412c3",
   "metadata": {},
   "outputs": [
    {
     "name": "stdout",
     "output_type": "stream",
     "text": [
      "['puspha', 'kannapa', 'jinna', 'journey', 'little hearts', 'court', 'lucky bhaskar', 'thammudu', 'santhosam', 'kalisundam raa', 'nuvvu naku nachav', 'baby', '7g brundhvan colony', 'remo', 'orange', 'rx 100', 'arjun reddy', 'mangalvaram']\n",
      "['PUSPHA', 'KANNAPA', 'JINNA', 'JOURNEY', 'LITTLE HEARTS', 'COURT', 'LUCKY BHASKAR', 'THAMMUDU', 'SANTHOSAM', 'KALISUNDAM RAA', 'NUVVU NAKU NACHAV', 'BABY', '7G BRUNDHVAN COLONY', 'REMO', 'ORANGE', 'RX 100', 'ARJUN REDDY', 'MANGALVARAM']\n"
     ]
    }
   ],
   "source": [
    "# wap to create a list from movies but with all capital letters\n",
    "movies_caps = []\n",
    "for movie in movies:\n",
    "    name = movie.upper()\n",
    "    movies_caps.append(name)\n",
    "print(movies)\n",
    "print(movies_caps)"
   ]
  },
  {
   "cell_type": "code",
   "execution_count": 8,
   "id": "bd3c8ba5",
   "metadata": {},
   "outputs": [
    {
     "name": "stdout",
     "output_type": "stream",
     "text": [
      "['puspha', 'kannapa', 'jinna', 'journey', 'little hearts', 'court', 'lucky bhaskar', 'thammudu', 'santhosam', 'kalisundam raa', 'nuvvu naku nachav', 'baby', '7g brundhvan colony', 'remo', 'orange', 'rx 100', 'arjun reddy', 'mangalvaram']\n",
      "['PUSPHA', 'KANNAPA', 'JINNA', 'JOURNEY', 'LITTLE HEARTS', 'COURT', 'LUCKY BHASKAR', 'THAMMUDU', 'SANTHOSAM', 'KALISUNDAM RAA', 'NUVVU NAKU NACHAV', 'BABY', '7G BRUNDHVAN COLONY', 'REMO', 'ORANGE', 'RX 100', 'ARJUN REDDY', 'MANGALVARAM']\n"
     ]
    }
   ],
   "source": [
    "movies_caps = [movie.upper() for movie in movies]\n",
    "print(movies)\n",
    "print(movies_caps)"
   ]
  },
  {
   "cell_type": "code",
   "execution_count": 9,
   "id": "21ee2247",
   "metadata": {},
   "outputs": [
    {
     "name": "stdout",
     "output_type": "stream",
     "text": [
      "['puspha', 'kannapa', 'jinna', 'journey', 'little hearts', 'court', 'lucky bhaskar', 'thammudu', 'santhosam', 'kalisundam raa', 'nuvvu naku nachav', 'baby', '7g brundhvan colony', 'remo', 'orange', 'rx 100', 'arjun reddy', 'mangalvaram']\n",
      "['journey', 'court', 'santhosam', '7g brundhvan colony', 'remo', 'orange']\n"
     ]
    }
   ],
   "source": [
    "# filter the movies it contain the char 'o' and store in new list\n",
    "movies_with_o = []\n",
    "for item in movies:\n",
    "    if 'o' in item or 'o' in item:\n",
    "        movies_with_o.append(item)\n",
    "print(movies)\n",
    "print(movies_with_o)"
   ]
  },
  {
   "cell_type": "code",
   "execution_count": 12,
   "id": "a5ef0d1e",
   "metadata": {},
   "outputs": [
    {
     "name": "stdout",
     "output_type": "stream",
     "text": [
      "['journey', 'little hearts', 'remo', 'orange', 'arjun reddy']\n"
     ]
    }
   ],
   "source": [
    "movies_with_e = [nm for nm in movies if 'e' in nm or 'e' in nm]\n",
    "print(movies_with_e)"
   ]
  },
  {
   "cell_type": "code",
   "execution_count": null,
   "id": "f0e7cdef",
   "metadata": {},
   "outputs": [
    {
     "name": "stdout",
     "output_type": "stream",
     "text": [
      "(1, 2, 3)\n"
     ]
    }
   ],
   "source": [
    "# TUPLES\n",
    "my_tuple = (1,2,3)\n",
    "print(my_tuple)"
   ]
  },
  {
   "cell_type": "code",
   "execution_count": 14,
   "id": "8d3af72b",
   "metadata": {},
   "outputs": [
    {
     "name": "stdout",
     "output_type": "stream",
     "text": [
      "(1, 'Hello', 3.4)\n"
     ]
    }
   ],
   "source": [
    "# tuple with mixed datatypes\n",
    "my_tuple = (1, \"Hello\", 3.4)\n",
    "print(my_tuple)"
   ]
  },
  {
   "cell_type": "code",
   "execution_count": 15,
   "id": "15d27564",
   "metadata": {},
   "outputs": [
    {
     "name": "stdout",
     "output_type": "stream",
     "text": [
      "('mouse', [8, 4, 6], (1, 2, 3))\n"
     ]
    }
   ],
   "source": [
    "# nested tuple\n",
    "my_tuple = (\"mouse\", [8,4,6],(1,2,3))\n",
    "print(my_tuple)"
   ]
  },
  {
   "cell_type": "code",
   "execution_count": 16,
   "id": "e68a81c3",
   "metadata": {},
   "outputs": [
    {
     "name": "stdout",
     "output_type": "stream",
     "text": [
      "(3, 4.6, 'Apple')\n"
     ]
    }
   ],
   "source": [
    "# a tuple can also be created without using parentheses.\n",
    "# This is know as tuple packing\n",
    "my_tuple = 3, 4.6, \"Apple\"\n",
    "print(my_tuple)"
   ]
  },
  {
   "cell_type": "code",
   "execution_count": 17,
   "id": "3d1f7942",
   "metadata": {},
   "outputs": [
    {
     "name": "stdout",
     "output_type": "stream",
     "text": [
      "p\n",
      "t\n"
     ]
    }
   ],
   "source": [
    "# Accesing tuple elements using indexing\n",
    "my_tuple = ('p','e','r','m','i','t')\n",
    "print(my_tuple[0])\n",
    "print(my_tuple[5])"
   ]
  },
  {
   "cell_type": "code",
   "execution_count": 18,
   "id": "a563bbc2",
   "metadata": {},
   "outputs": [
    {
     "name": "stdout",
     "output_type": "stream",
     "text": [
      "s\n",
      "4\n"
     ]
    }
   ],
   "source": [
    "n_tuple = (\"mouse\",[8,4,6], [1,2,3])\n",
    "print(n_tuple[0][3])\n",
    "print(n_tuple[1][1])"
   ]
  },
  {
   "cell_type": "code",
   "execution_count": 19,
   "id": "c995d3ec",
   "metadata": {},
   "outputs": [
    {
     "name": "stdout",
     "output_type": "stream",
     "text": [
      "('c', 'e', 'l', 'l')\n"
     ]
    }
   ],
   "source": [
    "# Slicing\n",
    "x  = ('e','x','c','e','l','l','e','n','t')\n",
    "print(x[2:6])"
   ]
  },
  {
   "cell_type": "code",
   "execution_count": 20,
   "id": "522d785c",
   "metadata": {},
   "outputs": [
    {
     "name": "stdout",
     "output_type": "stream",
     "text": [
      "('x', 'c', 'e', 'l')\n"
     ]
    }
   ],
   "source": [
    "print(x[1:5])"
   ]
  },
  {
   "cell_type": "code",
   "execution_count": 22,
   "id": "a6cdc960",
   "metadata": {},
   "outputs": [
    {
     "name": "stdout",
     "output_type": "stream",
     "text": [
      "('e', 'l', 'l', 'e', 'n')\n"
     ]
    }
   ],
   "source": [
    "print(x[3:8])"
   ]
  },
  {
   "cell_type": "code",
   "execution_count": 23,
   "id": "bcf46e5a",
   "metadata": {},
   "outputs": [
    {
     "name": "stdout",
     "output_type": "stream",
     "text": [
      "('e', 'x', 'c', 'e', 'l', 'l', 'e', 'n', 't')\n"
     ]
    }
   ],
   "source": [
    "print(x[:])"
   ]
  },
  {
   "cell_type": "code",
   "execution_count": 25,
   "id": "70d4ceba",
   "metadata": {},
   "outputs": [
    {
     "name": "stdout",
     "output_type": "stream",
     "text": [
      "(1, 2, 3, 4, 5, 6)\n"
     ]
    }
   ],
   "source": [
    "print((1,2,3) + (4,5,6))"
   ]
  },
  {
   "cell_type": "code",
   "execution_count": 26,
   "id": "067e4215",
   "metadata": {},
   "outputs": [
    {
     "name": "stdout",
     "output_type": "stream",
     "text": [
      "('repeat', 'repeat', 'repeat')\n"
     ]
    }
   ],
   "source": [
    "print((\"repeat\",) * 3)"
   ]
  },
  {
   "cell_type": "code",
   "execution_count": 28,
   "id": "f191cc2c",
   "metadata": {},
   "outputs": [
    {
     "name": "stdout",
     "output_type": "stream",
     "text": [
      "1\n",
      "2\n"
     ]
    }
   ],
   "source": [
    "a = ('m','a','n','g','o')\n",
    "print(a.count('m'))\n",
    "print(a.index('n'))"
   ]
  },
  {
   "cell_type": "code",
   "execution_count": null,
   "id": "797d2647",
   "metadata": {},
   "outputs": [],
   "source": []
  }
 ],
 "metadata": {
  "kernelspec": {
   "display_name": "Python 3",
   "language": "python",
   "name": "python3"
  },
  "language_info": {
   "codemirror_mode": {
    "name": "ipython",
    "version": 3
   },
   "file_extension": ".py",
   "mimetype": "text/x-python",
   "name": "python",
   "nbconvert_exporter": "python",
   "pygments_lexer": "ipython3",
   "version": "3.13.6"
  }
 },
 "nbformat": 4,
 "nbformat_minor": 5
}
