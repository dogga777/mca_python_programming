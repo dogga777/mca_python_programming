{
 "cells": [
  {
   "cell_type": "code",
   "execution_count": 1,
   "id": "6cbaa92b",
   "metadata": {},
   "outputs": [],
   "source": [
    "x = []  # creating  a empty list\n",
    "x = list() # empty list\n",
    "y = [1,2,3] # direct initilazation\n",
    "z = []\n",
    "z.append(\"apple\") # Adding single value\n",
    "z.append(\"cherry\")\n",
    "z.append(\"avacado\")"
   ]
  },
  {
   "cell_type": "code",
   "execution_count": 2,
   "id": "c2a1cd85",
   "metadata": {},
   "outputs": [
    {
     "name": "stdout",
     "output_type": "stream",
     "text": [
      "[1, 1, 1, 1, 1, 1, 1, 1, 1, 1]\n",
      "[1, 2, 1, 2, 1, 2, 1, 2, 1, 2]\n",
      "[1, 1, 1, 1, 1, 1, 1, 1, 1, 1, 1, 1, 1, 1, 1, 1, 1, 1, 1, 1]\n"
     ]
    }
   ],
   "source": [
    "# list of duplicate\n",
    "a = [1]*10 # cloning\n",
    "print(a)\n",
    "\n",
    "b = [1,2]*5\n",
    "c = a * 2\n",
    "print(b)\n",
    "print(c)"
   ]
  },
  {
   "cell_type": "code",
   "execution_count": 3,
   "id": "c176f474",
   "metadata": {},
   "outputs": [
    {
     "name": "stdout",
     "output_type": "stream",
     "text": [
      "[1, 1, 1, 1, 1, 1, 1, 1, 1, 1]\n",
      "1\n",
      "1\n",
      "1\n",
      "1\n",
      "1\n",
      "1\n",
      "1\n",
      "1\n",
      "1\n",
      "1\n",
      "1\n",
      "1 1\n"
     ]
    }
   ],
   "source": [
    "# displaying\n",
    "print(a) # raw output\n",
    "# displaying single item at a time using loop\n",
    "for item in a:\n",
    "    print(item)\n",
    "# single element using index\n",
    "print(a[0])\n",
    "print(a[3],a[5])"
   ]
  },
  {
   "cell_type": "code",
   "execution_count": 4,
   "id": "d181ffc4",
   "metadata": {},
   "outputs": [
    {
     "name": "stdout",
     "output_type": "stream",
     "text": [
      "[1, 2, 3] [4, 5, 6] [1, 2, 3, 4, 5, 6]\n"
     ]
    }
   ],
   "source": [
    "x = [1,2,3]\n",
    "y = [4,5,6]\n",
    "z = x+y # concatenate list\n",
    "print(x,y,z)"
   ]
  },
  {
   "cell_type": "code",
   "execution_count": 6,
   "id": "a9a603bc",
   "metadata": {},
   "outputs": [
    {
     "name": "stdout",
     "output_type": "stream",
     "text": [
      "20\n"
     ]
    }
   ],
   "source": [
    "students = ['bhargav','ram','ajay','balaji','abhi','ruhi','varsha','sumitra','lahari','jyotshna','meghana','anjali','sirisha','sahati','geetha','sameer','srikanth','yaswanth','yaswanth','roop']\n",
    "print(len(students))"
   ]
  },
  {
   "cell_type": "code",
   "execution_count": null,
   "id": "8011436a",
   "metadata": {},
   "outputs": [],
   "source": [
    "students = ['bhargav','ram','ajay','balaji','abhi','ruhi','varsha','sumitra','lahari','jyotshna','meghana','anjali','sirisha','sahati','geetha','sameer','srikanth','yaswanth','yaswanth','roop']\n"
   ]
  },
  {
   "cell_type": "code",
   "execution_count": 1,
   "id": "108d900a",
   "metadata": {},
   "outputs": [
    {
     "name": "stdout",
     "output_type": "stream",
     "text": [
      "['THe way of king']\n",
      "['THe way of king', 'THe final empire', 'Steelheart', 'legion']\n"
     ]
    }
   ],
   "source": [
    "books = []\n",
    "# addinng one item at a time\n",
    "books.append(\"THe way of king\")\n",
    "print(books)\n",
    "books.append(\"THe final empire\")\n",
    "books.append(\"Steelheart\")\n",
    "books.append(\"legion\")\n",
    "print(books)"
   ]
  },
  {
   "cell_type": "code",
   "execution_count": null,
   "id": "2e1da40b",
   "metadata": {},
   "outputs": [
    {
     "name": "stdout",
     "output_type": "stream",
     "text": [
      "['THe way of king', 'THe final empire', 'Steelheart', 'legion', ['harrypotter', 'jungle book'], ['harrypotter', 'jungle book']]\n"
     ]
    }
   ],
   "source": [
    "books.append(\"harrypotter\",\"jungle book\") # this code is not working(the append function takes only one fuction.\"harrypotter\")"
   ]
  },
  {
   "cell_type": "code",
   "execution_count": 7,
   "id": "6b02f303",
   "metadata": {},
   "outputs": [
    {
     "name": "stdout",
     "output_type": "stream",
     "text": [
      "['red', 'green', 'blue', 'yellow', 'black']\n",
      "['red', 'green', 'blue', 'yellow', 'black', 'purple', 'pink', 'yellow']\n"
     ]
    }
   ],
   "source": [
    "colors=['red','green','blue']\n",
    "colors.extend(['yellow','black'])\n",
    "print(colors)\n",
    "colors2=[\"purple\",\"pink\",\"yellow\"]\n",
    "colors.extend(colors2)\n",
    "print(colors)"
   ]
  },
  {
   "cell_type": "code",
   "execution_count": 1,
   "id": "a4f38138",
   "metadata": {},
   "outputs": [
    {
     "name": "stdout",
     "output_type": "stream",
     "text": [
      "[1]\n",
      "[1, 2]\n",
      "[1, 2, 3]\n",
      "[1, 2, 3, 4]\n",
      "[1, 2, 3, 4, 5]\n",
      "[1, 2, 3, 4, 5, 6]\n",
      "[1, 2, 3, 4, 5, 6, 7]\n",
      "[1, 2, 3, 4, 5, 6, 7, 8]\n",
      "[1, 2, 3, 4, 5, 6, 7, 8, 9]\n",
      "[1, 2, 3, 4, 5, 6, 7, 8, 9, 10]\n"
     ]
    }
   ],
   "source": [
    "# write a program to add 10 numbers in a list\n",
    "a = []\n",
    "for i in range(1,11):\n",
    "    a.append(i)\n",
    "    print(a)"
   ]
  },
  {
   "cell_type": "code",
   "execution_count": 5,
   "id": "5519490b",
   "metadata": {},
   "outputs": [
    {
     "name": "stdout",
     "output_type": "stream",
     "text": [
      "['alice in border land']\n",
      "['alice in border land', 'beaking bad']\n",
      "['alice in border land', 'beaking bad', 'wednesday']\n",
      "['alice in border land', 'beaking bad', 'wednesday', 'stranger things']\n",
      "['alice in border land', 'beaking bad', 'wednesday', 'stranger things', 'money hiest']\n"
     ]
    }
   ],
   "source": [
    "movies = []\n",
    "for i in range(5):\n",
    "    value = input(\"enter your five movies\")\n",
    "    movies.append(value)\n",
    "    print(movies)"
   ]
  },
  {
   "cell_type": "code",
   "execution_count": 7,
   "id": "016ab1ed",
   "metadata": {},
   "outputs": [
    {
     "name": "stdout",
     "output_type": "stream",
     "text": [
      "[1, 2, 5, 10]\n"
     ]
    }
   ],
   "source": [
    "x = [1,5,10]\n",
    "x.insert(1,2)\n",
    "print(x)"
   ]
  },
  {
   "cell_type": "code",
   "execution_count": 8,
   "id": "c0cab94a",
   "metadata": {},
   "outputs": [
    {
     "name": "stdout",
     "output_type": "stream",
     "text": [
      "[1, 2, 3, 3, 5, 10]\n"
     ]
    }
   ],
   "source": [
    "x = [1,2,3,5,10]\n",
    "x.insert(2,3)\n",
    "print(x)\n"
   ]
  },
  {
   "cell_type": "code",
   "execution_count": 9,
   "id": "2c89edbf",
   "metadata": {},
   "outputs": [
    {
     "name": "stdout",
     "output_type": "stream",
     "text": [
      "[1, 2, 3, 5, 9, 10]\n"
     ]
    }
   ],
   "source": [
    "x = [1,2,3,5,10]\n",
    "x.insert(4,9)\n",
    "print(x)"
   ]
  },
  {
   "cell_type": "code",
   "execution_count": null,
   "id": "2c217ed5",
   "metadata": {},
   "outputs": [],
   "source": []
  }
 ],
 "metadata": {
  "kernelspec": {
   "display_name": "Python 3",
   "language": "python",
   "name": "python3"
  },
  "language_info": {
   "codemirror_mode": {
    "name": "ipython",
    "version": 3
   },
   "file_extension": ".py",
   "mimetype": "text/x-python",
   "name": "python",
   "nbconvert_exporter": "python",
   "pygments_lexer": "ipython3",
   "version": "3.13.6"
  }
 },
 "nbformat": 4,
 "nbformat_minor": 5
}
