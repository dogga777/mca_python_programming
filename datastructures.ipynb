{
 "cells": [
  {
   "cell_type": "code",
   "execution_count": 1,
   "id": "6cbaa92b",
   "metadata": {},
   "outputs": [],
   "source": [
    "x = []  # creating  a empty list\n",
    "x = list() # empty list\n",
    "y = [1,2,3] # direct initilazation\n",
    "z = []\n",
    "z.append(\"apple\") # Adding single value\n",
    "z.append(\"cherry\")\n",
    "z.append(\"avacado\")"
   ]
  },
  {
   "cell_type": "code",
   "execution_count": 2,
   "id": "c2a1cd85",
   "metadata": {},
   "outputs": [
    {
     "name": "stdout",
     "output_type": "stream",
     "text": [
      "[1, 1, 1, 1, 1, 1, 1, 1, 1, 1]\n",
      "[1, 2, 1, 2, 1, 2, 1, 2, 1, 2]\n",
      "[1, 1, 1, 1, 1, 1, 1, 1, 1, 1, 1, 1, 1, 1, 1, 1, 1, 1, 1, 1]\n"
     ]
    }
   ],
   "source": [
    "# list of duplicate\n",
    "a = [1]*10 # cloning\n",
    "print(a)\n",
    "\n",
    "b = [1,2]*5\n",
    "c = a * 2\n",
    "print(b)\n",
    "print(c)"
   ]
  },
  {
   "cell_type": "code",
   "execution_count": 3,
   "id": "c176f474",
   "metadata": {},
   "outputs": [
    {
     "name": "stdout",
     "output_type": "stream",
     "text": [
      "[1, 1, 1, 1, 1, 1, 1, 1, 1, 1]\n",
      "1\n",
      "1\n",
      "1\n",
      "1\n",
      "1\n",
      "1\n",
      "1\n",
      "1\n",
      "1\n",
      "1\n",
      "1\n",
      "1 1\n"
     ]
    }
   ],
   "source": [
    "# displaying\n",
    "print(a) # raw output\n",
    "# displaying single item at a time using loop\n",
    "for item in a:\n",
    "    print(item)\n",
    "# single element using index\n",
    "print(a[0])\n",
    "print(a[3],a[5])"
   ]
  },
  {
   "cell_type": "code",
   "execution_count": 4,
   "id": "d181ffc4",
   "metadata": {},
   "outputs": [
    {
     "name": "stdout",
     "output_type": "stream",
     "text": [
      "[1, 2, 3] [4, 5, 6] [1, 2, 3, 4, 5, 6]\n"
     ]
    }
   ],
   "source": [
    "x = [1,2,3]\n",
    "y = [4,5,6]\n",
    "z = x+y # concatenate list\n",
    "print(x,y,z)"
   ]
  },
  {
   "cell_type": "code",
   "execution_count": 6,
   "id": "a9a603bc",
   "metadata": {},
   "outputs": [
    {
     "name": "stdout",
     "output_type": "stream",
     "text": [
      "20\n"
     ]
    }
   ],
   "source": [
    "students = ['bhargav','ram','ajay','balaji','abhi','ruhi','varsha','sumitra','lahari','jyotshna','meghana','anjali','sirisha','sahati','geetha','sameer','srikanth','yaswanth','yaswanth','roop']\n",
    "print(len(students))"
   ]
  },
  {
   "cell_type": "code",
   "execution_count": null,
   "id": "8011436a",
   "metadata": {},
   "outputs": [],
   "source": [
    "students = ['bhargav','ram','ajay','balaji','abhi','ruhi','varsha','sumitra','lahari','jyotshna','meghana','anjali','sirisha','sahati','geetha','sameer','srikanth','yaswanth','yaswanth','roop']\n"
   ]
  }
 ],
 "metadata": {
  "kernelspec": {
   "display_name": "Python 3",
   "language": "python",
   "name": "python3"
  },
  "language_info": {
   "codemirror_mode": {
    "name": "ipython",
    "version": 3
   },
   "file_extension": ".py",
   "mimetype": "text/x-python",
   "name": "python",
   "nbconvert_exporter": "python",
   "pygments_lexer": "ipython3",
   "version": "3.13.6"
  }
 },
 "nbformat": 4,
 "nbformat_minor": 5
}
