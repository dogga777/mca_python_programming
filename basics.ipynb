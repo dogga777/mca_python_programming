{
 "cells": [
  {
   "cell_type": "code",
   "execution_count": 54,
   "id": "5db4989c",
   "metadata": {},
   "outputs": [
    {
     "data": {
      "text/plain": [
       "10"
      ]
     },
     "execution_count": 54,
     "metadata": {},
     "output_type": "execute_result"
    }
   ],
   "source": [
    "x =10\n",
    "x"
   ]
  },
  {
   "cell_type": "code",
   "execution_count": 55,
   "id": "a92e61fe",
   "metadata": {},
   "outputs": [
    {
     "data": {
      "text/plain": [
       "'< <= > >= == !='"
      ]
     },
     "execution_count": 55,
     "metadata": {},
     "output_type": "execute_result"
    }
   ],
   "source": [
    "# comparision operators\n",
    "'< <= > >= == !='\n"
   ]
  },
  {
   "cell_type": "code",
   "execution_count": null,
   "id": "fc07c653",
   "metadata": {},
   "outputs": [],
   "source": []
  },
  {
   "cell_type": "code",
   "execution_count": 56,
   "id": "284f208a",
   "metadata": {},
   "outputs": [],
   "source": [
    "x = 12\n",
    "y = 23"
   ]
  },
  {
   "cell_type": "code",
   "execution_count": 57,
   "id": "aa050701",
   "metadata": {},
   "outputs": [],
   "source": [
    "x, y = 13, 24\n",
    "a, b, c =2, 4, 120"
   ]
  },
  {
   "cell_type": "code",
   "execution_count": 58,
   "id": "c5ea88a9",
   "metadata": {},
   "outputs": [
    {
     "data": {
      "text/plain": [
       "False"
      ]
     },
     "execution_count": 58,
     "metadata": {},
     "output_type": "execute_result"
    }
   ],
   "source": [
    "x > y # if x  is greater than y -> False"
   ]
  },
  {
   "cell_type": "code",
   "execution_count": 59,
   "id": "319d1f10",
   "metadata": {},
   "outputs": [
    {
     "data": {
      "text/plain": [
       "True"
      ]
     },
     "execution_count": 59,
     "metadata": {},
     "output_type": "execute_result"
    }
   ],
   "source": [
    "x ==13"
   ]
  },
  {
   "cell_type": "code",
   "execution_count": 60,
   "id": "2527af71",
   "metadata": {},
   "outputs": [
    {
     "data": {
      "text/plain": [
       "True"
      ]
     },
     "execution_count": 60,
     "metadata": {},
     "output_type": "execute_result"
    }
   ],
   "source": [
    "y >= 23"
   ]
  },
  {
   "cell_type": "code",
   "execution_count": 61,
   "id": "e2283920",
   "metadata": {},
   "outputs": [
    {
     "data": {
      "text/plain": [
       "True"
      ]
     },
     "execution_count": 61,
     "metadata": {},
     "output_type": "execute_result"
    }
   ],
   "source": [
    "x != y# if x is not equal to y -> True"
   ]
  },
  {
   "cell_type": "code",
   "execution_count": 62,
   "id": "36e2b3bc",
   "metadata": {},
   "outputs": [
    {
     "data": {
      "text/plain": [
       "True"
      ]
     },
     "execution_count": 62,
     "metadata": {},
     "output_type": "execute_result"
    }
   ],
   "source": [
    "x < 15 < y"
   ]
  },
  {
   "cell_type": "code",
   "execution_count": 63,
   "id": "b5a0d46d",
   "metadata": {},
   "outputs": [
    {
     "data": {
      "text/plain": [
       "False"
      ]
     },
     "execution_count": 63,
     "metadata": {},
     "output_type": "execute_result"
    }
   ],
   "source": [
    "x = 100 \n",
    "1 < x < 100 # if x is  in the range of 2 - 99"
   ]
  },
  {
   "cell_type": "code",
   "execution_count": 64,
   "id": "2d74df05",
   "metadata": {},
   "outputs": [
    {
     "data": {
      "text/plain": [
       "True"
      ]
     },
     "execution_count": 64,
     "metadata": {},
     "output_type": "execute_result"
    }
   ],
   "source": [
    "x = 100\n",
    "1 <= x <= 100 "
   ]
  },
  {
   "cell_type": "code",
   "execution_count": 65,
   "id": "95bedae4",
   "metadata": {},
   "outputs": [
    {
     "data": {
      "text/plain": [
       "True"
      ]
     },
     "execution_count": 65,
     "metadata": {},
     "output_type": "execute_result"
    }
   ],
   "source": [
    "x > y  and x > a # and is used to evaluate  if both expressions are True"
   ]
  },
  {
   "cell_type": "markdown",
   "id": "5f8dbfab",
   "metadata": {},
   "source": [
    "# Logical operators\n",
    " AND OR NOT"
   ]
  },
  {
   "cell_type": "code",
   "execution_count": 72,
   "id": "f17a4f1b",
   "metadata": {},
   "outputs": [
    {
     "data": {
      "text/plain": [
       "False"
      ]
     },
     "execution_count": 72,
     "metadata": {},
     "output_type": "execute_result"
    }
   ],
   "source": [
    "not a # convert true value to false and vice versa"
   ]
  },
  {
   "cell_type": "markdown",
   "id": "af406191",
   "metadata": {},
   "source": []
  },
  {
   "cell_type": "code",
   "execution_count": null,
   "id": "9e624a76",
   "metadata": {},
   "outputs": [],
   "source": [
    "(a == 10) # invert the result"
   ]
  },
  {
   "cell_type": "code",
   "execution_count": 3,
   "id": "78c61560",
   "metadata": {},
   "outputs": [],
   "source": [
    "name = \"mouli\"\n",
    "city = 'gowtham'"
   ]
  },
  {
   "cell_type": "markdown",
   "id": "8fa8e65e",
   "metadata": {},
   "source": [
    "INPUT IN PYTHON\n",
    "\n",
    "INPUT() FUNCTION IS USED FOR USER INPUT"
   ]
  },
  {
   "cell_type": "code",
   "execution_count": 7,
   "id": "c8a8065b",
   "metadata": {},
   "outputs": [
    {
     "name": "stdout",
     "output_type": "stream",
     "text": [
      "gowtham tirupati gandhi nagar\n"
     ]
    }
   ],
   "source": [
    "name = input(\"enter name =>\")\n",
    "city = input(\"enter city =>\")\n",
    "addr = input(\"enter addrs =>\")\n",
    "print(name, city, addr)\n"
   ]
  },
  {
   "cell_type": "code",
   "execution_count": 8,
   "id": "82d58e29",
   "metadata": {},
   "outputs": [
    {
     "name": "stdout",
     "output_type": "stream",
     "text": [
      "10 20 30\n"
     ]
    }
   ],
   "source": [
    "a = 10\n",
    "b = 20\n",
    "c = a + b\n",
    "print(a, b, c)"
   ]
  },
  {
   "cell_type": "code",
   "execution_count": 9,
   "id": "4c0f52da",
   "metadata": {},
   "outputs": [
    {
     "name": "stdout",
     "output_type": "stream",
     "text": [
      "10 20 1020\n"
     ]
    }
   ],
   "source": [
    "#dynamic\n",
    "a = input(\"enter a:\")\n",
    "b = input(\"enter b:\")\n",
    "c = a + b\n",
    "print( a, b, c)\n"
   ]
  },
  {
   "cell_type": "code",
   "execution_count": 12,
   "id": "72f15411",
   "metadata": {},
   "outputs": [
    {
     "name": "stdout",
     "output_type": "stream",
     "text": [
      "18.0\n",
      "36.0\n",
      "113.04\n",
      "1017.36\n"
     ]
    }
   ],
   "source": [
    "radius = float(input(\"enter radius of circle\"))\n",
    "diameter = radius * 2\n",
    "circumference = 2 * 3.14 * radius\n",
    "area = 3.14 * radius ** 2 \n",
    "\n",
    "print(radius)\n",
    "print(diameter)\n",
    "print(circumference)\n",
    "print(area)\n"
   ]
  },
  {
   "cell_type": "code",
   "execution_count": 16,
   "id": "72716d7e",
   "metadata": {},
   "outputs": [
    {
     "name": "stdout",
     "output_type": "stream",
     "text": [
      "1000000\n",
      "15\n",
      "11\n",
      "1650000.0\n"
     ]
    }
   ],
   "source": [
    "# simple intrest\n",
    "p = 1000000\n",
    "r = 15\n",
    "t =11\n",
    "si = p*r*t/100\n",
    "print(p)\n",
    "print(r)\n",
    "print(t)\n",
    "print(si)"
   ]
  },
  {
   "cell_type": "code",
   "execution_count": 19,
   "id": "cf0e8dd8",
   "metadata": {},
   "outputs": [
    {
     "name": "stdout",
     "output_type": "stream",
     "text": [
      "3000000\n",
      "10.0\n",
      "5\n",
      "1500000.0\n"
     ]
    }
   ],
   "source": [
    "# simple interest\n",
    "p = int(input(\"enter principle amount\"))\n",
    "r = float(input(\"enter the rate of interest\"))\n",
    "t = int(input(\"enter the year\"))\n",
    "si = p*r*t/100\n",
    "\n",
    "print(p)\n",
    "print(r)\n",
    "print(t)\n",
    "print(si)"
   ]
  },
  {
   "cell_type": "code",
   "execution_count": 21,
   "id": "b659c02f",
   "metadata": {},
   "outputs": [
    {
     "name": "stdout",
     "output_type": "stream",
     "text": [
      "797.9148200000001\n"
     ]
    }
   ],
   "source": [
    "pi = 3.14\n",
    "r = 5.9\n",
    "h = 7.3\n",
    "v = pi*r**2*h #volume of cylinder\n",
    "print(v)"
   ]
  },
  {
   "cell_type": "code",
   "execution_count": 22,
   "id": "7abdd104",
   "metadata": {},
   "outputs": [
    {
     "name": "stdout",
     "output_type": "stream",
     "text": [
      "874.5779200000001\n"
     ]
    }
   ],
   "source": [
    "pi = 3.14\n",
    "r = float(input(\"enter radius of cylinder:\"))\n",
    "h = float(input(\"height of cylinder:\"))\n",
    "v = pi*r**2*h #volume of cylinder\n",
    "print(v)"
   ]
  },
  {
   "cell_type": "code",
   "execution_count": 23,
   "id": "6f139b1b",
   "metadata": {},
   "outputs": [
    {
     "name": "stdout",
     "output_type": "stream",
     "text": [
      "this is an example\n",
      "one two three\n",
      "1 2 3 9\n",
      "35\n",
      "apple|||banana|||orange\n",
      "apple banana oranges\n"
     ]
    }
   ],
   "source": [
    "print(\"this is an example\")\n",
    "print(\"one\",\"two\",\"three\")\n",
    "print(\"1\",\"2\",\"3\",4 + 5)\n",
    "print(10 * 3 + 5)\n",
    "print(\"apple\",\"banana\",\"orange\", sep=\"|||\")\n",
    "print(\"apple\",\"banana\",\"oranges\")"
   ]
  },
  {
   "cell_type": "code",
   "execution_count": 2,
   "id": "afec6345",
   "metadata": {},
   "outputs": [
    {
     "name": "stdout",
     "output_type": "stream",
     "text": [
      "15\n",
      "100000.0\n",
      "10\n",
      "150000.0\n"
     ]
    }
   ],
   "source": [
    "# simple interest\n",
    "p = int(input(\"enter principle amount\"))\n",
    "r = float(input(\"enter the rate of interest\"))\n",
    "t = int(input(\"enter the year\"))\n",
    "si = p*r*t/100\n",
    "\n",
    "print(p)\n",
    "print(r)\n",
    "print(t)\n",
    "print(si)"
   ]
  },
  {
   "cell_type": "code",
   "execution_count": 2,
   "id": "7b288953",
   "metadata": {},
   "outputs": [
    {
     "name": "stdout",
     "output_type": "stream",
     "text": [
      "1 2 3 4 5 0.5\n"
     ]
    }
   ],
   "source": [
    "print(1,2,3,4,5,1/2)   "
   ]
  },
  {
   "cell_type": "code",
   "execution_count": 3,
   "id": "81be460f",
   "metadata": {},
   "outputs": [
    {
     "name": "stdout",
     "output_type": "stream",
     "text": [
      "1 2 3 4 5\n",
      "1234\n",
      "1,2,3,4,5,6\n",
      "1➡️2➡️3➡️4➡️5\n",
      "1\n",
      "2\n",
      "3\n",
      "4\n",
      "5\n",
      "1hello world2hello world3hello world4hello world5\n"
     ]
    }
   ],
   "source": [
    "print(1,2,3,4,5)\n",
    "print(1,2,3,4, sep=\"\")\n",
    "print(1,2,3,4,5,6,sep=',')\n",
    "print(1,2,3,4,5, sep='➡️')\n",
    "print(1,2,3,4,5,sep=\"\\n\")\n",
    "print(1,2,3,4,5, sep=\"hello world\")"
   ]
  },
  {
   "cell_type": "code",
   "execution_count": 9,
   "id": "b0d64eae",
   "metadata": {},
   "outputs": [
    {
     "name": "stdout",
     "output_type": "stream",
     "text": [
      "1 2 3 4 5\n",
      "1😊2😊3😊4\n",
      "1,2,3,4,5,6\n",
      "1➡️2➡️3➡️4➡️5\n",
      "1\n",
      "2\n",
      "3\n",
      "4\n",
      "5\n",
      "1hello world2hello world3hello world4hello world5\n",
      "a b c 🎶\n",
      "this is not me\n",
      "this is a python class 🐍\n",
      "this is not much intresting 🤣\n",
      "sai rammmmmmmmmmmm 🤣🤣🤣🤣\n"
     ]
    }
   ],
   "source": [
    "print(1,2,3,4,5)\n",
    "print(1,2,3,4, sep=\"😊\")\n",
    "print(1,2,3,4,5,6,sep=',')\n",
    "print(1,2,3,4,5, sep='➡️')\n",
    "print(1,2,3,4,5,sep=\"\\n\")\n",
    "print(1,2,3,4,5, sep=\"hello world\")\n",
    "print(\"a\",\"b\",\"c\",'🎶')\n",
    "print(\"this is not me\")\n",
    "print(\"this is a python class\",'🐍')\n",
    "print(\"this is not much intresting\",'🤣')\n",
    "print(\"sai rammmmmmmmmmmm\",'🤣🤣🤣🤣')"
   ]
  },
  {
   "cell_type": "code",
   "execution_count": 10,
   "id": "12866378",
   "metadata": {},
   "outputs": [
    {
     "name": "stdout",
     "output_type": "stream",
     "text": [
      "130\n",
      "Answer 130\n",
      "Answer 130\n",
      "100 + 30 => 130\n",
      "Answer 130\n",
      "100 + 30 = 130\n"
     ]
    }
   ],
   "source": [
    "a = 100\n",
    "b = 30 \n",
    "c = a + b\n",
    "print(c)\n",
    "print(\"Answer \"+str(c))\n",
    "print(\"Answer %d\"%c)     # not the best way\n",
    "print(\"%d + %d => %d\"%(a,b,c))  # also very complicated\n",
    "print(\"Answer {}\".format(c))  #old way (before python 3.6)\n",
    "print(\"{} + {} = {}\".format(a,b,c)) # old way"
   ]
  },
  {
   "cell_type": "code",
   "execution_count": 13,
   "id": "c7eb09df",
   "metadata": {},
   "outputs": [
    {
     "name": "stdout",
     "output_type": "stream",
     "text": [
      "Answer 130\n",
      "{a} + {b} = {c}\n"
     ]
    }
   ],
   "source": [
    "a = 100\n",
    "b = 30 \n",
    "c = a + b\n",
    "print(\"Answer {}\".format(c))  \n",
    "print(\"{a} + {b} = {c}\")"
   ]
  },
  {
   "cell_type": "code",
   "execution_count": null,
   "id": "f20eb927",
   "metadata": {},
   "outputs": [
    {
     "name": "stdout",
     "output_type": "stream",
     "text": [
      "Answer 130\n",
      "f{a} + {b} = {c}\n"
     ]
    }
   ],
   "source": [
    "a = 100\n",
    "b = 30 \n",
    "c = a + b\n",
    "print(f\"Answer {c}\")  \n",
    "print(\"f{a} + {b} = {c}\") "
   ]
  },
  {
   "cell_type": "code",
   "execution_count": 16,
   "id": "721fbf8a",
   "metadata": {},
   "outputs": [
    {
     "name": "stdout",
     "output_type": "stream",
     "text": [
      "my name is Sam, i work as a Spy in Echeleon\n"
     ]
    }
   ],
   "source": [
    "name = \"Sam\"\n",
    "job  = \"Spy\"\n",
    "company = \"Echeleon\"\n",
    "print(f\"my name is {name}, i work as a {job} in {company}\")"
   ]
  },
  {
   "cell_type": "code",
   "execution_count": 17,
   "id": "58f33e29",
   "metadata": {},
   "outputs": [
    {
     "name": "stdout",
     "output_type": "stream",
     "text": [
      "calculation of hyppotenuse\n",
      "perpendicular => 20\n",
      "Base => 10\n",
      "Based on pythagoras theorem:\n",
      "hypotenuse => 22.360679774997898\n"
     ]
    }
   ],
   "source": [
    "p = 20\n",
    "b = 10\n",
    "h = (p**2 + b**2)**.5\n",
    "print(\"calculation of hyppotenuse\")\n",
    "print(f\"perpendicular => {p}\")\n",
    "print(f'Base => {b}')\n",
    "print(\"Based on pythagoras theorem:\")\n",
    "print(f\"hypotenuse => {h}\")"
   ]
  },
  {
   "cell_type": "code",
   "execution_count": null,
   "id": "a7044302",
   "metadata": {},
   "outputs": [],
   "source": []
  }
 ],
 "metadata": {
  "kernelspec": {
   "display_name": "Python 3",
   "language": "python",
   "name": "python3"
  },
  "language_info": {
   "codemirror_mode": {
    "name": "ipython",
    "version": 3
   },
   "file_extension": ".py",
   "mimetype": "text/x-python",
   "name": "python",
   "nbconvert_exporter": "python",
   "pygments_lexer": "ipython3",
   "version": "3.13.6"
  }
 },
 "nbformat": 4,
 "nbformat_minor": 5
}
