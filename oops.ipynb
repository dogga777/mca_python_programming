{
 "cells": [
  {
   "cell_type": "code",
   "execution_count": 1,
   "id": "0952718b",
   "metadata": {},
   "outputs": [],
   "source": [
    "class pen:\n",
    "    color = \" \"\n",
    "    brand = \" \"\n",
    "    price = 0\n",
    "    "
   ]
  },
  {
   "cell_type": "code",
   "execution_count": 2,
   "id": "d3e95561",
   "metadata": {},
   "outputs": [],
   "source": [
    "class Bottle:\n",
    "    color = \" \"\n",
    "    height = \" \"\n",
    "    size = \" \"\n",
    "    shape = \" \"\n",
    "    cap = \" \"\n",
    "    material = \" \"\n",
    "    qualities = \" \"\n",
    "    volume = \" \"\n",
    "    price = \" \"\n",
    "    brand = \" \""
   ]
  },
  {
   "cell_type": "code",
   "execution_count": 3,
   "id": "6188e8b4",
   "metadata": {},
   "outputs": [],
   "source": [
    "class Book:\n",
    "    title = \" \"\n",
    "    authors = \" \"\n",
    "    pages = \" \"\n",
    "    price = 0"
   ]
  },
  {
   "cell_type": "code",
   "execution_count": 4,
   "id": "d0be3d63",
   "metadata": {},
   "outputs": [],
   "source": [
    "class Polygon:\n",
    "    side = 0\n",
    "    "
   ]
  },
  {
   "cell_type": "code",
   "execution_count": null,
   "id": "24d82386",
   "metadata": {},
   "outputs": [
    {
     "name": "stdout",
     "output_type": "stream",
     "text": [
      "<class '__main__.Polygon'>\n"
     ]
    }
   ],
   "source": [
    "triangle = Polygon()   # object creation instance\n",
    "triangle.side = 3       # attribute setting\n",
    "print(Polygon)"
   ]
  },
  {
   "cell_type": "code",
   "execution_count": null,
   "id": "35712ec3",
   "metadata": {},
   "outputs": [
    {
     "name": "stdout",
     "output_type": "stream",
     "text": [
      "<__main__.Polygon object at 0x0000026A7FCAC2D0>\n"
     ]
    }
   ],
   "source": [
    "print(triangle)"
   ]
  },
  {
   "cell_type": "code",
   "execution_count": 9,
   "id": "51f7035f",
   "metadata": {},
   "outputs": [
    {
     "name": "stdout",
     "output_type": "stream",
     "text": [
      "0\n"
     ]
    }
   ],
   "source": [
    "print(Polygon.side)"
   ]
  },
  {
   "cell_type": "code",
   "execution_count": 10,
   "id": "d5e36eb5",
   "metadata": {},
   "outputs": [
    {
     "name": "stdout",
     "output_type": "stream",
     "text": [
      "3\n"
     ]
    }
   ],
   "source": [
    "print(triangle.side)"
   ]
  },
  {
   "cell_type": "code",
   "execution_count": null,
   "id": "380f10ba",
   "metadata": {},
   "outputs": [],
   "source": []
  }
 ],
 "metadata": {
  "kernelspec": {
   "display_name": "Python 3",
   "language": "python",
   "name": "python3"
  },
  "language_info": {
   "codemirror_mode": {
    "name": "ipython",
    "version": 3
   },
   "file_extension": ".py",
   "mimetype": "text/x-python",
   "name": "python",
   "nbconvert_exporter": "python",
   "pygments_lexer": "ipython3",
   "version": "3.13.6"
  }
 },
 "nbformat": 4,
 "nbformat_minor": 5
}
