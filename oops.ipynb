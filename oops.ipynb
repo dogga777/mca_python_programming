{
 "cells": [
  {
   "cell_type": "code",
   "execution_count": 1,
   "id": "0952718b",
   "metadata": {},
   "outputs": [],
   "source": [
    "class pen:\n",
    "    color = \" \"\n",
    "    brand = \" \"\n",
    "    price = 0\n",
    "    "
   ]
  },
  {
   "cell_type": "code",
   "execution_count": 2,
   "id": "d3e95561",
   "metadata": {},
   "outputs": [],
   "source": [
    "class Bottle:\n",
    "    color = \" \"\n",
    "    height = \" \"\n",
    "    size = \" \"\n",
    "    shape = \" \"\n",
    "    cap = \" \"\n",
    "    material = \" \"\n",
    "    qualities = \" \"\n",
    "    volume = \" \"\n",
    "    price = \" \"\n",
    "    brand = \" \""
   ]
  },
  {
   "cell_type": "code",
   "execution_count": 3,
   "id": "6188e8b4",
   "metadata": {},
   "outputs": [],
   "source": [
    "class Book:\n",
    "    title = \" \"\n",
    "    authors = \" \"\n",
    "    pages = \" \"\n",
    "    price = 0"
   ]
  },
  {
   "cell_type": "code",
   "execution_count": 4,
   "id": "d0be3d63",
   "metadata": {},
   "outputs": [],
   "source": [
    "class Polygon:\n",
    "    side = 0\n",
    "    "
   ]
  },
  {
   "cell_type": "code",
   "execution_count": null,
   "id": "24d82386",
   "metadata": {},
   "outputs": [
    {
     "name": "stdout",
     "output_type": "stream",
     "text": [
      "<class '__main__.Polygon'>\n"
     ]
    }
   ],
   "source": [
    "triangle = Polygon()   # object creation instance\n",
    "triangle.side = 3       # attribute setting\n",
    "print(Polygon)"
   ]
  },
  {
   "cell_type": "code",
   "execution_count": null,
   "id": "35712ec3",
   "metadata": {},
   "outputs": [
    {
     "name": "stdout",
     "output_type": "stream",
     "text": [
      "<__main__.Polygon object at 0x0000026A7FCAC2D0>\n"
     ]
    }
   ],
   "source": [
    "print(triangle)"
   ]
  },
  {
   "cell_type": "code",
   "execution_count": 9,
   "id": "51f7035f",
   "metadata": {},
   "outputs": [
    {
     "name": "stdout",
     "output_type": "stream",
     "text": [
      "0\n"
     ]
    }
   ],
   "source": [
    "print(Polygon.side)"
   ]
  },
  {
   "cell_type": "code",
   "execution_count": 10,
   "id": "d5e36eb5",
   "metadata": {},
   "outputs": [
    {
     "name": "stdout",
     "output_type": "stream",
     "text": [
      "3\n"
     ]
    }
   ],
   "source": [
    "print(triangle.side)"
   ]
  },
  {
   "cell_type": "markdown",
   "id": "5d27e257",
   "metadata": {},
   "source": [
    "# no constructor"
   ]
  },
  {
   "cell_type": "code",
   "execution_count": 2,
   "id": "b805fe26",
   "metadata": {},
   "outputs": [],
   "source": [
    "class Area:\n",
    "    len = 0\n",
    "    bth = 0\n",
    "    def calc(self):\n",
    "        ans = self.len * self.bth\n",
    "        return"
   ]
  },
  {
   "cell_type": "markdown",
   "id": "0dc54568",
   "metadata": {},
   "source": [
    "# Constructor"
   ]
  },
  {
   "cell_type": "code",
   "execution_count": 3,
   "id": "b821ce2a",
   "metadata": {},
   "outputs": [],
   "source": [
    "class Area2:\n",
    "    def __init__(self,len,bth):\n",
    "        self.l = len\n",
    "        self.b = bth\n",
    "    def calc(self):\n",
    "        ans= self.l * self.b\n",
    "        return ans"
   ]
  },
  {
   "cell_type": "code",
   "execution_count": 4,
   "id": "c36e5089",
   "metadata": {},
   "outputs": [
    {
     "name": "stdout",
     "output_type": "stream",
     "text": [
      "5 9 None\n"
     ]
    }
   ],
   "source": [
    "o1 = Area()\n",
    "o1.len = 5\n",
    "o1.bth = 9\n",
    "res = o1.calc()\n",
    "print(o1.len,o1.bth,res)"
   ]
  },
  {
   "cell_type": "code",
   "execution_count": 5,
   "id": "629c52b5",
   "metadata": {},
   "outputs": [
    {
     "name": "stdout",
     "output_type": "stream",
     "text": [
      "6 8 None\n"
     ]
    }
   ],
   "source": [
    "o2 = Area()\n",
    "o2.len = 6\n",
    "o2.bth = 8\n",
    "res = o2.calc()\n",
    "print(o2.len,o2.bth,res)"
   ]
  },
  {
   "cell_type": "code",
   "execution_count": 6,
   "id": "ddcb425e",
   "metadata": {},
   "outputs": [
    {
     "name": "stdout",
     "output_type": "stream",
     "text": [
      "9 7 None\n"
     ]
    }
   ],
   "source": [
    "o3 = Area()\n",
    "o3.len = 9\n",
    "o3.bth = 7\n",
    "res = o3.calc()\n",
    "print(o3.len,o3.bth,res)"
   ]
  },
  {
   "cell_type": "code",
   "execution_count": 8,
   "id": "55ab560e",
   "metadata": {},
   "outputs": [
    {
     "name": "stdout",
     "output_type": "stream",
     "text": [
      "15 5 75\n"
     ]
    }
   ],
   "source": [
    "o4 = Area2(15,5)\n",
    "print(o4.l,o4.b,o4.calc())"
   ]
  },
  {
   "cell_type": "code",
   "execution_count": 9,
   "id": "34aa47f5",
   "metadata": {},
   "outputs": [
    {
     "name": "stdout",
     "output_type": "stream",
     "text": [
      "10 13 130\n"
     ]
    }
   ],
   "source": [
    "o5 = Area2(10,13)\n",
    "res = o5.calc()\n",
    "print(o5.l,o5.b,res)"
   ]
  },
  {
   "cell_type": "code",
   "execution_count": null,
   "id": "2ec3d450",
   "metadata": {},
   "outputs": [],
   "source": []
  }
 ],
 "metadata": {
  "kernelspec": {
   "display_name": "Python 3",
   "language": "python",
   "name": "python3"
  },
  "language_info": {
   "codemirror_mode": {
    "name": "ipython",
    "version": 3
   },
   "file_extension": ".py",
   "mimetype": "text/x-python",
   "name": "python",
   "nbconvert_exporter": "python",
   "pygments_lexer": "ipython3",
   "version": "3.13.6"
  }
 },
 "nbformat": 4,
 "nbformat_minor": 5
}
