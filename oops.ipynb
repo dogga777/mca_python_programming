{
 "cells": [
  {
   "cell_type": "code",
   "execution_count": 1,
   "id": "0952718b",
   "metadata": {},
   "outputs": [],
   "source": [
    "class pen:\n",
    "    color = \" \"\n",
    "    brand = \" \"\n",
    "    price = 0\n",
    "    "
   ]
  },
  {
   "cell_type": "code",
   "execution_count": 2,
   "id": "d3e95561",
   "metadata": {},
   "outputs": [],
   "source": [
    "class Bottle:\n",
    "    color = \" \"\n",
    "    height = \" \"\n",
    "    size = \" \"\n",
    "    shape = \" \"\n",
    "    cap = \" \"\n",
    "    material = \" \"\n",
    "    qualities = \" \"\n",
    "    volume = \" \"\n",
    "    price = \" \"\n",
    "    brand = \" \""
   ]
  },
  {
   "cell_type": "code",
   "execution_count": 3,
   "id": "6188e8b4",
   "metadata": {},
   "outputs": [],
   "source": [
    "class Book:\n",
    "    title = \" \"\n",
    "    authors = \" \"\n",
    "    pages = \" \"\n",
    "    price = 0"
   ]
  },
  {
   "cell_type": "code",
   "execution_count": 4,
   "id": "d0be3d63",
   "metadata": {},
   "outputs": [],
   "source": [
    "class Polygon:\n",
    "    side = 0\n",
    "    "
   ]
  },
  {
   "cell_type": "code",
   "execution_count": null,
   "id": "24d82386",
   "metadata": {},
   "outputs": [
    {
     "name": "stdout",
     "output_type": "stream",
     "text": [
      "<class '__main__.Polygon'>\n"
     ]
    }
   ],
   "source": [
    "triangle = Polygon()   # object creation instance\n",
    "triangle.side = 3       # attribute setting\n",
    "print(Polygon)"
   ]
  },
  {
   "cell_type": "code",
   "execution_count": null,
   "id": "35712ec3",
   "metadata": {},
   "outputs": [
    {
     "name": "stdout",
     "output_type": "stream",
     "text": [
      "<__main__.Polygon object at 0x0000026A7FCAC2D0>\n"
     ]
    }
   ],
   "source": [
    "print(triangle)"
   ]
  },
  {
   "cell_type": "code",
   "execution_count": 9,
   "id": "51f7035f",
   "metadata": {},
   "outputs": [
    {
     "name": "stdout",
     "output_type": "stream",
     "text": [
      "0\n"
     ]
    }
   ],
   "source": [
    "print(Polygon.side)"
   ]
  },
  {
   "cell_type": "code",
   "execution_count": 10,
   "id": "d5e36eb5",
   "metadata": {},
   "outputs": [
    {
     "name": "stdout",
     "output_type": "stream",
     "text": [
      "3\n"
     ]
    }
   ],
   "source": [
    "print(triangle.side)"
   ]
  },
  {
   "cell_type": "markdown",
   "id": "5d27e257",
   "metadata": {},
   "source": [
    "# no constructor"
   ]
  },
  {
   "cell_type": "code",
   "execution_count": 2,
   "id": "b805fe26",
   "metadata": {},
   "outputs": [],
   "source": [
    "class Area:\n",
    "    len = 0\n",
    "    bth = 0\n",
    "    def calc(self):\n",
    "        ans = self.len * self.bth\n",
    "        return"
   ]
  },
  {
   "cell_type": "markdown",
   "id": "0dc54568",
   "metadata": {},
   "source": [
    "# Constructor"
   ]
  },
  {
   "cell_type": "code",
   "execution_count": 3,
   "id": "b821ce2a",
   "metadata": {},
   "outputs": [],
   "source": [
    "class Area2:\n",
    "    def __init__(self,len,bth):\n",
    "        self.l = len\n",
    "        self.b = bth\n",
    "    def calc(self):\n",
    "        ans= self.l * self.b\n",
    "        return ans"
   ]
  },
  {
   "cell_type": "code",
   "execution_count": 4,
   "id": "c36e5089",
   "metadata": {},
   "outputs": [
    {
     "name": "stdout",
     "output_type": "stream",
     "text": [
      "5 9 None\n"
     ]
    }
   ],
   "source": [
    "o1 = Area()\n",
    "o1.len = 5\n",
    "o1.bth = 9\n",
    "res = o1.calc()\n",
    "print(o1.len,o1.bth,res)"
   ]
  },
  {
   "cell_type": "code",
   "execution_count": 5,
   "id": "629c52b5",
   "metadata": {},
   "outputs": [
    {
     "name": "stdout",
     "output_type": "stream",
     "text": [
      "6 8 None\n"
     ]
    }
   ],
   "source": [
    "o2 = Area()\n",
    "o2.len = 6\n",
    "o2.bth = 8\n",
    "res = o2.calc()\n",
    "print(o2.len,o2.bth,res)"
   ]
  },
  {
   "cell_type": "code",
   "execution_count": 6,
   "id": "ddcb425e",
   "metadata": {},
   "outputs": [
    {
     "name": "stdout",
     "output_type": "stream",
     "text": [
      "9 7 None\n"
     ]
    }
   ],
   "source": [
    "o3 = Area()\n",
    "o3.len = 9\n",
    "o3.bth = 7\n",
    "res = o3.calc()\n",
    "print(o3.len,o3.bth,res)"
   ]
  },
  {
   "cell_type": "code",
   "execution_count": 8,
   "id": "55ab560e",
   "metadata": {},
   "outputs": [
    {
     "name": "stdout",
     "output_type": "stream",
     "text": [
      "15 5 75\n"
     ]
    }
   ],
   "source": [
    "o4 = Area2(15,5)\n",
    "print(o4.l,o4.b,o4.calc())"
   ]
  },
  {
   "cell_type": "code",
   "execution_count": 9,
   "id": "34aa47f5",
   "metadata": {},
   "outputs": [
    {
     "name": "stdout",
     "output_type": "stream",
     "text": [
      "10 13 130\n"
     ]
    }
   ],
   "source": [
    "o5 = Area2(10,13)\n",
    "res = o5.calc()\n",
    "print(o5.l,o5.b,res)"
   ]
  },
  {
   "cell_type": "code",
   "execution_count": 14,
   "id": "2ec3d450",
   "metadata": {},
   "outputs": [
    {
     "name": "stdout",
     "output_type": "stream",
     "text": [
      "Breed: Golden Retriever, Color: golden, Age: 3\n",
      "Breed: Dalmatian, Color: black & white, Age: 5\n",
      "Breed: Dalmatian, Color: black, Age: 6\n",
      "Breed: German Shepherd, Color: brown, Age: 4\n"
     ]
    }
   ],
   "source": [
    "class Dog:\n",
    "    def __init__ (self,breed,color,age):\n",
    "        self.breed = breed\n",
    "        self.color = color\n",
    "        self.age = age\n",
    "    def show(self):\n",
    "        print(f\"Breed: {self.breed}, Color: {self.color}, Age: {self.age}\")\n",
    "bruno = Dog('Golden Retriever', 'golden', 3)\n",
    "buddy = Dog('Dalmatian', 'black & white', 5)\n",
    "sammy = Dog('Dalmatian', 'black', 6)\n",
    "alex = Dog('German Shepherd', 'brown', 4)\n",
    "bruno.show()\n",
    "buddy.show()\n",
    "sammy.show()\n",
    "alex.show()\n",
    "               "
   ]
  },
  {
   "cell_type": "markdown",
   "id": "03f5a799",
   "metadata": {},
   "source": [
    "# doglist = [bruno,sammy,alex,buddy]\n",
    "# display details of the eldest dogs using if elif ladder"
   ]
  },
  {
   "cell_type": "code",
   "execution_count": 15,
   "id": "d1f96190",
   "metadata": {},
   "outputs": [
    {
     "name": "stdout",
     "output_type": "stream",
     "text": [
      "Breed: Dalmatian, Color: black, Age: 6\n",
      "None\n"
     ]
    }
   ],
   "source": [
    "doglist = [bruno, sammy, alex, buddy]\n",
    "\n",
    "age = 0\n",
    "eldest_dog = None\n",
    "\n",
    "for dog in doglist:\n",
    "    if age <= dog.age:\n",
    "        age = dog.age\n",
    "        eldest_dog = dog\n",
    "print(eldest_dog.show())"
   ]
  },
  {
   "cell_type": "code",
   "execution_count": 2,
   "id": "a825e31c",
   "metadata": {},
   "outputs": [
    {
     "name": "stdout",
     "output_type": "stream",
     "text": [
      "All available dragons:\n",
      "1. Water Dragon\n",
      "2. Fire Dragon\n",
      "3. Ice Dragon\n"
     ]
    }
   ],
   "source": [
    "class Dragon:\n",
    "    def __init__(self, type):\n",
    "        self.type = type\n",
    "        \n",
    "# instances\n",
    "\n",
    "water_dragon = Dragon(\"Water\")\n",
    "fire_dragon = Dragon(\"Fire\")\n",
    "ice_dragon = Dragon(\"Ice\")\n",
    "\n",
    "print(\"All available dragons:\")\n",
    "print(f'1. {water_dragon.type} Dragon')\n",
    "print(f'2. {fire_dragon.type} Dragon')\n",
    "print(f'3. {ice_dragon.type} Dragon')"
   ]
  },
  {
   "cell_type": "code",
   "execution_count": 4,
   "id": "187209f8",
   "metadata": {},
   "outputs": [],
   "source": [
    "class Pokemon:\n",
    "    def __init__(self, name, type='Normal', hp=10, atk=10, dfn=10):\n",
    "        self.name = name\n",
    "        self.type = name\n",
    "        self.hp = hp\n",
    "        self.atk = atk\n",
    "        self.dfn = dfn\n",
    "        \n",
    "    def stats(self):\n",
    "        print(\"Pokemon Details\")\n",
    "        print(f'Name: {self.name}')\n",
    "        print(f'Type: {self.type}')\n",
    "        print(f'HP: {self.hp}')\n",
    "        print(f'Attack: {self.atk}')\n",
    "        print(f'Defense: {self.dfn}')\n",
    "        \n",
    "    def overall(self):\n",
    "        return self.hp + self.atk + self.dfn\n",
    "    \n",
    "    def is_powerfull(self):\n",
    "        if self.overall()>100:\n",
    "            return True\n",
    "        return False        "
   ]
  },
  {
   "cell_type": "code",
   "execution_count": 5,
   "id": "8ec0c1e1",
   "metadata": {},
   "outputs": [
    {
     "name": "stdout",
     "output_type": "stream",
     "text": [
      "\n",
      "Stats:\n",
      "Pokemon Details\n",
      "Name: Pikachu\n",
      "Type: Pikachu\n",
      "HP: 35\n",
      "Attack: 55\n",
      "Defense: 40\n",
      "Overall Score: 130\n",
      "Is Powerfull: True\n",
      "------------------\n",
      "Pokemon Details\n",
      "Name: Snorlax\n",
      "Type: Snorlax\n",
      "HP: 160\n",
      "Attack: 110\n",
      "Defense: 65\n",
      "Overall Score: 335\n",
      "Is Powerfull: True\n",
      "------------------\n",
      "Pokemon Details\n",
      "Name: Charizard\n",
      "Type: Charizard\n",
      "HP: 78\n",
      "Attack: 84\n",
      "Defense: 75\n",
      "Overall Score: 237\n",
      "Is Powerfull: True\n",
      "------------------\n",
      "Pokemon Details\n",
      "Name: Bulbasaur\n",
      "Type: Bulbasaur\n",
      "HP: 45\n",
      "Attack: 49\n",
      "Defense: 49\n",
      "Overall Score: 143\n",
      "Is Powerfull: True\n",
      "------------------\n",
      "Pokemon Details\n",
      "Name: Rattata\n",
      "Type: Rattata\n",
      "HP: 10\n",
      "Attack: 10\n",
      "Defense: 10\n",
      "Overall Score: 30\n",
      "Is Powerfull: False\n",
      "------------------\n"
     ]
    }
   ],
   "source": [
    "pikachu = Pokemon(\"Pikachu\", \"Electric\", 35, 55, 40)\n",
    "snorlax = Pokemon(\"Snorlax\", \"Normal\", 160, 110, 65)\n",
    "charizard = Pokemon(\"Charizard\", \"Fire/Flying\", 78, 84, 75)\n",
    "bulbasaur = Pokemon(\"Bulbasaur\", \"Grass/Poison\", 45, 49, 49)\n",
    "rattata = Pokemon(\"Rattata\")\n",
    "\n",
    "pokemons = [pikachu, snorlax, charizard, bulbasaur, rattata]\n",
    "print(\"\\nStats:\")\n",
    "for poke in pokemons:\n",
    "    poke.stats()\n",
    "    print(f'Overall Score: {poke.overall()}')\n",
    "    print(f'Is Powerfull: {poke.is_powerfull()}')\n",
    "    print(f'------------------')"
   ]
  },
  {
   "cell_type": "code",
   "execution_count": 7,
   "id": "f80487e7",
   "metadata": {},
   "outputs": [],
   "source": [
    "# simple calc using oop\n",
    "\n",
    "class Calc:\n",
    "    def run(self, num1, operator, num2):\n",
    "        match operator:\n",
    "            case '+':return self.add(num1, num2)\n",
    "            case '-':return self.subtract(num1, num2)\n",
    "            case '/':return self.divide(num1, num2)\n",
    "            case '*':return self.multiply(num1, num2)\n",
    "    def add(self, a, b): return a + b\n",
    "    def multiply(self, a, b): return a * b\n",
    "    def subtract(self, a, b): return a - b\n",
    "    def divide(self, a, b): \n",
    "        if b == 0: return \"⚠️ can't divide by 0\"\n",
    "        return a/b\n",
    "                "
   ]
  },
  {
   "cell_type": "code",
   "execution_count": 9,
   "id": "e7807d2d",
   "metadata": {},
   "outputs": [
    {
     "name": "stdout",
     "output_type": "stream",
     "text": [
      "150\n"
     ]
    }
   ],
   "source": [
    "# calculator instance\n",
    "c = Calc()\n",
    "while True:\n",
    "    a = int(input(\"enter first num\"))\n",
    "    b = int(input(\"enter next num\"))\n",
    "    op = input(\"enter operation(+, -, *, /)\")\n",
    "    ans = c.run(a, op, b)  # ex 2 + 10 -> c.run(2, '+', 10)\n",
    "    print(ans)\n",
    "    if input('continue') != 'y':\n",
    "        break"
   ]
  },
  {
   "cell_type": "code",
   "execution_count": null,
   "id": "217f0de5",
   "metadata": {},
   "outputs": [],
   "source": []
  }
 ],
 "metadata": {
  "kernelspec": {
   "display_name": "Python 3",
   "language": "python",
   "name": "python3"
  },
  "language_info": {
   "codemirror_mode": {
    "name": "ipython",
    "version": 3
   },
   "file_extension": ".py",
   "mimetype": "text/x-python",
   "name": "python",
   "nbconvert_exporter": "python",
   "pygments_lexer": "ipython3",
   "version": "3.13.6"
  }
 },
 "nbformat": 4,
 "nbformat_minor": 5
}
