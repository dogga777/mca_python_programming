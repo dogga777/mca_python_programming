{
 "cells": [
  {
   "cell_type": "markdown",
   "id": "775409d1",
   "metadata": {},
   "source": [
    "Building logic with if\n",
    "\n",
    "normal english\n",
    "you see a apple seller\n",
    "Do u like apples\n",
    "if yes\n",
    "       you purchase 2kg apples\n",
    "if no \n",
    "       you don't purchase apple"
   ]
  },
  {
   "cell_type": "code",
   "execution_count": 1,
   "id": "e928620c",
   "metadata": {},
   "outputs": [
    {
     "name": "stdout",
     "output_type": "stream",
     "text": [
      "you see a apple seller\n",
      "purchase 2kg of apples\n"
     ]
    }
   ],
   "source": [
    "print('you see a apple seller')\n",
    "q = input('do you like apples ?')\n",
    "\n",
    "if q == 'yes':\n",
    "    print('purchase 2kg of apples')\n",
    "if q == 'no':\n",
    "    print('you dont purcahse apples')"
   ]
  },
  {
   "cell_type": "code",
   "execution_count": 2,
   "id": "bf9a0524",
   "metadata": {},
   "outputs": [
    {
     "name": "stdout",
     "output_type": "stream",
     "text": [
      "you see a apple seller\n",
      "you dont purcahse apples\n"
     ]
    }
   ],
   "source": [
    "print('you see a apple seller')\n",
    "q = input('do you like apples ?')\n",
    "\n",
    "if q == 'yes':\n",
    "    print('purchase 2kg of apples')\n",
    "if q == 'no':\n",
    "    print('you dont purcahse apples')"
   ]
  },
  {
   "cell_type": "code",
   "execution_count": 7,
   "id": "b307c39d",
   "metadata": {},
   "outputs": [
    {
     "name": "stdout",
     "output_type": "stream",
     "text": [
      "total salary is 59800.0\n"
     ]
    }
   ],
   "source": [
    "salary = 52000\n",
    "if salary > 50000:\n",
    "    da = .15\n",
    "    total = salary + salary * da\n",
    "print(f\"total salary is {total}\")"
   ]
  },
  {
   "cell_type": "code",
   "execution_count": 6,
   "id": "75305a96",
   "metadata": {},
   "outputs": [],
   "source": [
    "del da"
   ]
  },
  {
   "cell_type": "code",
   "execution_count": 5,
   "id": "2e99049c",
   "metadata": {},
   "outputs": [
    {
     "name": "stdout",
     "output_type": "stream",
     "text": [
      "total salary is 42000\n"
     ]
    }
   ],
   "source": [
    "# solution 1 - create the da variable before condition\n",
    "salary = 42000\n",
    "da = 0\n",
    "if salary > 50000:\n",
    "    da = .15  # 15% dearness alowance\n",
    "total = salary + salary * da\n",
    "print(f\"total salary is {total}\")"
   ]
  },
  {
   "cell_type": "code",
   "execution_count": 6,
   "id": "d8cab941",
   "metadata": {},
   "outputs": [
    {
     "name": "stdout",
     "output_type": "stream",
     "text": [
      "total salary is 42000\n"
     ]
    }
   ],
   "source": [
    "# solution 2 - use if else\n",
    "salary = 42000\n",
    "da = 0 \n",
    "if salary > 50000:\n",
    "    da = .15\n",
    "    total = salary + salary * da\n",
    "else :\n",
    "    total = salary\n",
    "    print(f\"total salary is {total}\")"
   ]
  },
  {
   "cell_type": "code",
   "execution_count": 7,
   "id": "ae8125b4",
   "metadata": {},
   "outputs": [
    {
     "name": "stdout",
     "output_type": "stream",
     "text": [
      "total salary is 42000\n"
     ]
    }
   ],
   "source": [
    "# solution 2 - us if else with their own print\n",
    "salary = 42000\n",
    "if salary > 50000:\n",
    "    da = .15\n",
    "    total = salary + salary * da\n",
    "else:\n",
    "    total = salary\n",
    "    print(f\"total salary is {total}\")"
   ]
  },
  {
   "cell_type": "code",
   "execution_count": null,
   "id": "5a388a99",
   "metadata": {},
   "outputs": [
    {
     "name": "stdout",
     "output_type": "stream",
     "text": [
      "difference is: 20\n"
     ]
    }
   ],
   "source": [
    "# x = int(input())\n",
    "# y = int(input())\n",
    "# if x>y:\n",
    "#     a = x-y\n",
    "# else:\n",
    "#     a = y-x\n",
    "# print(\"difference is:\", a)"
   ]
  },
  {
   "cell_type": "code",
   "execution_count": 16,
   "id": "dfc41eaa",
   "metadata": {},
   "outputs": [
    {
     "name": "stdout",
     "output_type": "stream",
     "text": [
      "short movie name: aye\n",
      "the end\n"
     ]
    }
   ],
   "source": [
    "name = input(\"enter your fav movie\")\n",
    "if len(name) > 10:\n",
    "    print(f\"long movie name: {name}\")\n",
    "else:\n",
    "    print(f\"short movie name: {name}\")\n",
    "print(\"the end\")"
   ]
  },
  {
   "cell_type": "markdown",
   "id": "782c1b00",
   "metadata": {},
   "source": [
    "### handling multiple conditions using if-elif"
   ]
  },
  {
   "cell_type": "code",
   "execution_count": 2,
   "id": "4186c9db",
   "metadata": {},
   "outputs": [
    {
     "name": "stdout",
     "output_type": "stream",
     "text": [
      "what is the captial of India?\n",
      "you are very correct\n"
     ]
    }
   ],
   "source": [
    "print(\"what is the captial of India?\")\n",
    "answer = input(\"Answer\")\n",
    "if answer == \"Delhi\":\n",
    "    print(\"your are correct\")\n",
    "if answer == \"New Delhi\":\n",
    "    print(\"you are very correct\")\n",
    "if answer == \"I dont know\":\n",
    "    print(\"U must be sleeping under a rock\")\n",
    "if answer == \"Shimla\":\n",
    "    print(\"you must be from Britain\")"
   ]
  },
  {
   "cell_type": "code",
   "execution_count": null,
   "id": "f03540ba",
   "metadata": {},
   "outputs": [
    {
     "name": "stdout",
     "output_type": "stream",
     "text": [
      "your grade: A\n",
      "your grade: B\n",
      "your grade: C\n",
      "your grade: D\n"
     ]
    }
   ],
   "source": [
    "marks = int(input(\"enter your total marks in 10th:\"))\n",
    "if marks > 90:\n",
    "    print(\"your grade: A\")\n",
    "if marks > 75:\n",
    "    print(\"your grade: B\")    # if you use 'if condition' it displays all grades. \"NESTED-IF\"\n",
    "if marks > 60:\n",
    "    print(\"your grade: C\")\n",
    "if marks > 40:\n",
    "    print(\"your grade: D\")\n",
    "if marks < 40:\n",
    "    print(\"you failed ☠️🤦‍♂️\")"
   ]
  },
  {
   "cell_type": "code",
   "execution_count": 14,
   "id": "a51a9388",
   "metadata": {},
   "outputs": [
    {
     "name": "stdout",
     "output_type": "stream",
     "text": [
      "your grade: A\n"
     ]
    }
   ],
   "source": [
    "marks = int(input(\"enter your total marks in 10th:\"))\n",
    "if marks > 90:\n",
    "    print(\"your grade: A\")\n",
    "elif marks > 75:\n",
    "    print(\"your grade: B\")    # if you use 'elif' condition it can display particularly what you want.\n",
    "elif marks > 60:\n",
    "    print(\"your grade: C\")\n",
    "elif marks > 40:\n",
    "    print(\"your grade: D\")\n",
    "elif marks < 40:\n",
    "    print(\"you failed ☠️🤦‍♂️\")"
   ]
  },
  {
   "cell_type": "code",
   "execution_count": 15,
   "id": "e6fb9815",
   "metadata": {},
   "outputs": [
    {
     "name": "stdout",
     "output_type": "stream",
     "text": [
      "your grade: A\n"
     ]
    }
   ],
   "source": [
    "marks = int(input(\"enter your total marks in 10th:\"))\n",
    "if marks > 90 and marks <=100:\n",
    "    print(\"your grade: A\")\n",
    "if marks > 75 and marks <=90:\n",
    "    print(\"your grade: B\")    # this is without elif\n",
    "if marks > 60 and marks <=75:\n",
    "    print(\"your grade: C\")\n",
    "if marks > 40 and marks <=60:\n",
    "    print(\"your grade: D\")\n",
    "if marks < 40:\n",
    "    print(\"you failed ☠️🤦‍♂️\")"
   ]
  },
  {
   "cell_type": "code",
   "execution_count": 16,
   "id": "1f28e4b7",
   "metadata": {},
   "outputs": [
    {
     "name": "stdout",
     "output_type": "stream",
     "text": [
      "frnds salary =>85000\n",
      "frnds total =>76500.0\n"
     ]
    }
   ],
   "source": [
    "# salary calculator\n",
    "salary = int(input(\"enter your frnds salary:\"))\n",
    "if salary > 100000:\n",
    "    total = salary - salary * .20 # frnds tax 20%\n",
    "elif salary > 80000:\n",
    "    total = salary - salary * .1\n",
    "elif salary > 50000:\n",
    "    total = salary - salary * .05\n",
    "else:\n",
    "    total = salary + 10000\n",
    "print(f'frnds salary =>{salary}')\n",
    "print(f'frnds total =>{total}')\n"
   ]
  }
 ],
 "metadata": {
  "kernelspec": {
   "display_name": "Python 3",
   "language": "python",
   "name": "python3"
  },
  "language_info": {
   "codemirror_mode": {
    "name": "ipython",
    "version": 3
   },
   "file_extension": ".py",
   "mimetype": "text/x-python",
   "name": "python",
   "nbconvert_exporter": "python",
   "pygments_lexer": "ipython3",
   "version": "3.13.6"
  }
 },
 "nbformat": 4,
 "nbformat_minor": 5
}
