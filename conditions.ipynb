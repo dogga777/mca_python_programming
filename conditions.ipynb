{
 "cells": [
  {
   "cell_type": "markdown",
   "id": "775409d1",
   "metadata": {},
   "source": [
    "Building logic with if\n",
    "\n",
    "normal english\n",
    "you see a apple seller\n",
    "Do u like apples\n",
    "if yes\n",
    "       you purchase 2kg apples\n",
    "if no \n",
    "       you don't purchase apple"
   ]
  },
  {
   "cell_type": "code",
   "execution_count": 1,
   "id": "e928620c",
   "metadata": {},
   "outputs": [
    {
     "name": "stdout",
     "output_type": "stream",
     "text": [
      "you see a apple seller\n",
      "purchase 2kg of apples\n"
     ]
    }
   ],
   "source": [
    "print('you see a apple seller')\n",
    "q = input('do you like apples ?')\n",
    "\n",
    "if q == 'yes':\n",
    "    print('purchase 2kg of apples')\n",
    "if q == 'no':\n",
    "    print('you dont purcahse apples')"
   ]
  },
  {
   "cell_type": "code",
   "execution_count": 2,
   "id": "bf9a0524",
   "metadata": {},
   "outputs": [
    {
     "name": "stdout",
     "output_type": "stream",
     "text": [
      "you see a apple seller\n",
      "you dont purcahse apples\n"
     ]
    }
   ],
   "source": [
    "print('you see a apple seller')\n",
    "q = input('do you like apples ?')\n",
    "\n",
    "if q == 'yes':\n",
    "    print('purchase 2kg of apples')\n",
    "if q == 'no':\n",
    "    print('you dont purcahse apples')"
   ]
  },
  {
   "cell_type": "code",
   "execution_count": 7,
   "id": "b307c39d",
   "metadata": {},
   "outputs": [
    {
     "name": "stdout",
     "output_type": "stream",
     "text": [
      "total salary is 59800.0\n"
     ]
    }
   ],
   "source": [
    "salary = 52000\n",
    "if salary > 50000:\n",
    "    da = .15\n",
    "    total = salary + salary * da\n",
    "print(f\"total salary is {total}\")"
   ]
  },
  {
   "cell_type": "code",
   "execution_count": 6,
   "id": "75305a96",
   "metadata": {},
   "outputs": [],
   "source": [
    "del da"
   ]
  },
  {
   "cell_type": "code",
   "execution_count": 5,
   "id": "2e99049c",
   "metadata": {},
   "outputs": [
    {
     "name": "stdout",
     "output_type": "stream",
     "text": [
      "total salary is 42000\n"
     ]
    }
   ],
   "source": [
    "# solution 1 - create the da variable before condition\n",
    "salary = 42000\n",
    "da = 0\n",
    "if salary > 50000:\n",
    "    da = .15  # 15% dearness alowance\n",
    "total = salary + salary * da\n",
    "print(f\"total salary is {total}\")"
   ]
  },
  {
   "cell_type": "code",
   "execution_count": 6,
   "id": "d8cab941",
   "metadata": {},
   "outputs": [
    {
     "name": "stdout",
     "output_type": "stream",
     "text": [
      "total salary is 42000\n"
     ]
    }
   ],
   "source": [
    "# solution 2 - use if else\n",
    "salary = 42000\n",
    "da = 0 \n",
    "if salary > 50000:\n",
    "    da = .15\n",
    "    total = salary + salary * da\n",
    "else :\n",
    "    total = salary\n",
    "    print(f\"total salary is {total}\")"
   ]
  },
  {
   "cell_type": "code",
   "execution_count": 7,
   "id": "ae8125b4",
   "metadata": {},
   "outputs": [
    {
     "name": "stdout",
     "output_type": "stream",
     "text": [
      "total salary is 42000\n"
     ]
    }
   ],
   "source": [
    "# solution 2 - us if else with their own print\n",
    "salary = 42000\n",
    "if salary > 50000:\n",
    "    da = .15\n",
    "    total = salary + salary * da\n",
    "else:\n",
    "    total = salary\n",
    "    print(f\"total salary is {total}\")"
   ]
  },
  {
   "cell_type": "code",
   "execution_count": null,
   "id": "5a388a99",
   "metadata": {},
   "outputs": [
    {
     "name": "stdout",
     "output_type": "stream",
     "text": [
      "difference is: 20\n"
     ]
    }
   ],
   "source": [
    "# x = int(input())\n",
    "# y = int(input())\n",
    "# if x>y:\n",
    "#     a = x-y\n",
    "# else:\n",
    "#     a = y-x\n",
    "# print(\"difference is:\", a)"
   ]
  },
  {
   "cell_type": "code",
   "execution_count": 16,
   "id": "dfc41eaa",
   "metadata": {},
   "outputs": [
    {
     "name": "stdout",
     "output_type": "stream",
     "text": [
      "short movie name: aye\n",
      "the end\n"
     ]
    }
   ],
   "source": [
    "name = input(\"enter your fav movie\")\n",
    "if len(name) > 10:\n",
    "    print(f\"long movie name: {name}\")\n",
    "else:\n",
    "    print(f\"short movie name: {name}\")\n",
    "print(\"the end\")"
   ]
  }
 ],
 "metadata": {
  "kernelspec": {
   "display_name": "Python 3",
   "language": "python",
   "name": "python3"
  },
  "language_info": {
   "codemirror_mode": {
    "name": "ipython",
    "version": 3
   },
   "file_extension": ".py",
   "mimetype": "text/x-python",
   "name": "python",
   "nbconvert_exporter": "python",
   "pygments_lexer": "ipython3",
   "version": "3.13.6"
  }
 },
 "nbformat": 4,
 "nbformat_minor": 5
}
